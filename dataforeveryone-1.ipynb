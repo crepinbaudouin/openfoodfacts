{
 "cells": [
  {
   "cell_type": "code",
   "execution_count": 1,
   "metadata": {
    "_cell_guid": "b1076dfc-b9ad-4769-8c92-a6c4dae69d19",
    "_uuid": "8f2839f25d086af736a60e9eeb907d3b93b6e0e5",
    "execution": {
     "iopub.execute_input": "2021-01-08T23:46:54.486519Z",
     "iopub.status.busy": "2021-01-08T23:46:54.485677Z",
     "iopub.status.idle": "2021-01-08T23:46:56.367726Z",
     "shell.execute_reply": "2021-01-08T23:46:56.366891Z"
    },
    "papermill": {
     "duration": 1.927306,
     "end_time": "2021-01-08T23:46:56.367873",
     "exception": false,
     "start_time": "2021-01-08T23:46:54.440567",
     "status": "completed"
    },
    "tags": []
   },
   "outputs": [
    {
     "data": {
      "text/html": [
       "        <script type=\"text/javascript\">\n",
       "        window.PlotlyConfig = {MathJaxConfig: 'local'};\n",
       "        if (window.MathJax) {MathJax.Hub.Config({SVG: {font: \"STIX-Web\"}});}\n",
       "        if (typeof require !== 'undefined') {\n",
       "        require.undef(\"plotly\");\n",
       "        requirejs.config({\n",
       "            paths: {\n",
       "                'plotly': ['https://cdn.plot.ly/plotly-latest.min']\n",
       "            }\n",
       "        });\n",
       "        require(['plotly'], function(Plotly) {\n",
       "            window._Plotly = Plotly;\n",
       "        });\n",
       "        }\n",
       "        </script>\n",
       "        "
      ]
     },
     "metadata": {},
     "output_type": "display_data"
    },
    {
     "name": "stdout",
     "output_type": "stream",
     "text": [
      "['world-food-facts']\n"
     ]
    }
   ],
   "source": [
    "# This Python 3 environment comes with many helpful analytics libraries installed\n",
    "# It is defined by the kaggle/python Docker image: https://github.com/kaggle/docker-python\n",
    "# For example, here's several helpful packages to load\n",
    "\n",
    "import numpy as np # linear algebra\n",
    "import pandas as pd # data processing, CSV file I/O (e.g. pd.read_csv)\n",
    "import seaborn as sns\n",
    "import pylab as pl\n",
    "import scipy.optimize as opt\n",
    "from sklearn import preprocessing\n",
    "import matplotlib.pyplot as plt\n",
    "%matplotlib inline\n",
    "\n",
    "import plotly.offline as py\n",
    "py.init_notebook_mode(connected=True)\n",
    "import plotly.graph_objs as go\n",
    "sns.set()\n",
    "\n",
    "from PIL import Image\n",
    "from wordcloud import WordCloud, STOPWORDS, ImageColorGenerator\n",
    "import os\n",
    "print(os.listdir(\"../input\"))\n",
    "\n"
   ]
  },
  {
   "cell_type": "code",
   "execution_count": 2,
   "metadata": {
    "_cell_guid": "79c7e3d0-c299-4dcb-8224-4455121ee9b0",
    "_uuid": "d629ff2d2480ee46fbb7e2d37f6b5fab8052498a",
    "execution": {
     "iopub.execute_input": "2021-01-08T23:46:56.443306Z",
     "iopub.status.busy": "2021-01-08T23:46:56.442631Z",
     "iopub.status.idle": "2021-01-08T23:47:28.544663Z",
     "shell.execute_reply": "2021-01-08T23:47:28.544290Z"
    },
    "papermill": {
     "duration": 32.140922,
     "end_time": "2021-01-08T23:47:28.544752",
     "exception": false,
     "start_time": "2021-01-08T23:46:56.403830",
     "status": "completed"
    },
    "tags": []
   },
   "outputs": [
    {
     "name": "stderr",
     "output_type": "stream",
     "text": [
      "/opt/conda/lib/python3.7/site-packages/IPython/core/interactiveshell.py:3063: DtypeWarning:\n",
      "\n",
      "Columns (0,3,5,19,20,24,25,26,27,28,36,37,38,39,48) have mixed types.Specify dtype option on import or set low_memory=False.\n",
      "\n"
     ]
    },
    {
     "data": {
      "text/html": [
       "<div>\n",
       "<style scoped>\n",
       "    .dataframe tbody tr th:only-of-type {\n",
       "        vertical-align: middle;\n",
       "    }\n",
       "\n",
       "    .dataframe tbody tr th {\n",
       "        vertical-align: top;\n",
       "    }\n",
       "\n",
       "    .dataframe thead th {\n",
       "        text-align: right;\n",
       "    }\n",
       "</style>\n",
       "<table border=\"1\" class=\"dataframe\">\n",
       "  <thead>\n",
       "    <tr style=\"text-align: right;\">\n",
       "      <th></th>\n",
       "      <th>code</th>\n",
       "      <th>url</th>\n",
       "      <th>creator</th>\n",
       "      <th>created_t</th>\n",
       "      <th>created_datetime</th>\n",
       "      <th>last_modified_t</th>\n",
       "      <th>last_modified_datetime</th>\n",
       "      <th>product_name</th>\n",
       "      <th>generic_name</th>\n",
       "      <th>quantity</th>\n",
       "      <th>...</th>\n",
       "      <th>fruits-vegetables-nuts_100g</th>\n",
       "      <th>fruits-vegetables-nuts-estimate_100g</th>\n",
       "      <th>collagen-meat-protein-ratio_100g</th>\n",
       "      <th>cocoa_100g</th>\n",
       "      <th>chlorophyl_100g</th>\n",
       "      <th>carbon-footprint_100g</th>\n",
       "      <th>nutrition-score-fr_100g</th>\n",
       "      <th>nutrition-score-uk_100g</th>\n",
       "      <th>glycemic-index_100g</th>\n",
       "      <th>water-hardness_100g</th>\n",
       "    </tr>\n",
       "  </thead>\n",
       "  <tbody>\n",
       "    <tr>\n",
       "      <th>0</th>\n",
       "      <td>3087</td>\n",
       "      <td>http://world-en.openfoodfacts.org/product/0000...</td>\n",
       "      <td>openfoodfacts-contributors</td>\n",
       "      <td>1474103866</td>\n",
       "      <td>2016-09-17T09:17:46Z</td>\n",
       "      <td>1474103893</td>\n",
       "      <td>2016-09-17T09:18:13Z</td>\n",
       "      <td>Farine de blé noir</td>\n",
       "      <td>NaN</td>\n",
       "      <td>1kg</td>\n",
       "      <td>...</td>\n",
       "      <td>NaN</td>\n",
       "      <td>NaN</td>\n",
       "      <td>NaN</td>\n",
       "      <td>NaN</td>\n",
       "      <td>NaN</td>\n",
       "      <td>NaN</td>\n",
       "      <td>NaN</td>\n",
       "      <td>NaN</td>\n",
       "      <td>NaN</td>\n",
       "      <td>NaN</td>\n",
       "    </tr>\n",
       "    <tr>\n",
       "      <th>1</th>\n",
       "      <td>4530</td>\n",
       "      <td>http://world-en.openfoodfacts.org/product/0000...</td>\n",
       "      <td>usda-ndb-import</td>\n",
       "      <td>1489069957</td>\n",
       "      <td>2017-03-09T14:32:37Z</td>\n",
       "      <td>1489069957</td>\n",
       "      <td>2017-03-09T14:32:37Z</td>\n",
       "      <td>Banana Chips Sweetened (Whole)</td>\n",
       "      <td>NaN</td>\n",
       "      <td>NaN</td>\n",
       "      <td>...</td>\n",
       "      <td>NaN</td>\n",
       "      <td>NaN</td>\n",
       "      <td>NaN</td>\n",
       "      <td>NaN</td>\n",
       "      <td>NaN</td>\n",
       "      <td>NaN</td>\n",
       "      <td>14.0</td>\n",
       "      <td>14.0</td>\n",
       "      <td>NaN</td>\n",
       "      <td>NaN</td>\n",
       "    </tr>\n",
       "    <tr>\n",
       "      <th>2</th>\n",
       "      <td>4559</td>\n",
       "      <td>http://world-en.openfoodfacts.org/product/0000...</td>\n",
       "      <td>usda-ndb-import</td>\n",
       "      <td>1489069957</td>\n",
       "      <td>2017-03-09T14:32:37Z</td>\n",
       "      <td>1489069957</td>\n",
       "      <td>2017-03-09T14:32:37Z</td>\n",
       "      <td>Peanuts</td>\n",
       "      <td>NaN</td>\n",
       "      <td>NaN</td>\n",
       "      <td>...</td>\n",
       "      <td>NaN</td>\n",
       "      <td>NaN</td>\n",
       "      <td>NaN</td>\n",
       "      <td>NaN</td>\n",
       "      <td>NaN</td>\n",
       "      <td>NaN</td>\n",
       "      <td>0.0</td>\n",
       "      <td>0.0</td>\n",
       "      <td>NaN</td>\n",
       "      <td>NaN</td>\n",
       "    </tr>\n",
       "    <tr>\n",
       "      <th>3</th>\n",
       "      <td>16087</td>\n",
       "      <td>http://world-en.openfoodfacts.org/product/0000...</td>\n",
       "      <td>usda-ndb-import</td>\n",
       "      <td>1489055731</td>\n",
       "      <td>2017-03-09T10:35:31Z</td>\n",
       "      <td>1489055731</td>\n",
       "      <td>2017-03-09T10:35:31Z</td>\n",
       "      <td>Organic Salted Nut Mix</td>\n",
       "      <td>NaN</td>\n",
       "      <td>NaN</td>\n",
       "      <td>...</td>\n",
       "      <td>NaN</td>\n",
       "      <td>NaN</td>\n",
       "      <td>NaN</td>\n",
       "      <td>NaN</td>\n",
       "      <td>NaN</td>\n",
       "      <td>NaN</td>\n",
       "      <td>12.0</td>\n",
       "      <td>12.0</td>\n",
       "      <td>NaN</td>\n",
       "      <td>NaN</td>\n",
       "    </tr>\n",
       "    <tr>\n",
       "      <th>4</th>\n",
       "      <td>16094</td>\n",
       "      <td>http://world-en.openfoodfacts.org/product/0000...</td>\n",
       "      <td>usda-ndb-import</td>\n",
       "      <td>1489055653</td>\n",
       "      <td>2017-03-09T10:34:13Z</td>\n",
       "      <td>1489055653</td>\n",
       "      <td>2017-03-09T10:34:13Z</td>\n",
       "      <td>Organic Polenta</td>\n",
       "      <td>NaN</td>\n",
       "      <td>NaN</td>\n",
       "      <td>...</td>\n",
       "      <td>NaN</td>\n",
       "      <td>NaN</td>\n",
       "      <td>NaN</td>\n",
       "      <td>NaN</td>\n",
       "      <td>NaN</td>\n",
       "      <td>NaN</td>\n",
       "      <td>NaN</td>\n",
       "      <td>NaN</td>\n",
       "      <td>NaN</td>\n",
       "      <td>NaN</td>\n",
       "    </tr>\n",
       "  </tbody>\n",
       "</table>\n",
       "<p>5 rows × 163 columns</p>\n",
       "</div>"
      ],
      "text/plain": [
       "    code                                                url  \\\n",
       "0   3087  http://world-en.openfoodfacts.org/product/0000...   \n",
       "1   4530  http://world-en.openfoodfacts.org/product/0000...   \n",
       "2   4559  http://world-en.openfoodfacts.org/product/0000...   \n",
       "3  16087  http://world-en.openfoodfacts.org/product/0000...   \n",
       "4  16094  http://world-en.openfoodfacts.org/product/0000...   \n",
       "\n",
       "                      creator   created_t      created_datetime  \\\n",
       "0  openfoodfacts-contributors  1474103866  2016-09-17T09:17:46Z   \n",
       "1             usda-ndb-import  1489069957  2017-03-09T14:32:37Z   \n",
       "2             usda-ndb-import  1489069957  2017-03-09T14:32:37Z   \n",
       "3             usda-ndb-import  1489055731  2017-03-09T10:35:31Z   \n",
       "4             usda-ndb-import  1489055653  2017-03-09T10:34:13Z   \n",
       "\n",
       "  last_modified_t last_modified_datetime                    product_name  \\\n",
       "0      1474103893   2016-09-17T09:18:13Z              Farine de blé noir   \n",
       "1      1489069957   2017-03-09T14:32:37Z  Banana Chips Sweetened (Whole)   \n",
       "2      1489069957   2017-03-09T14:32:37Z                         Peanuts   \n",
       "3      1489055731   2017-03-09T10:35:31Z          Organic Salted Nut Mix   \n",
       "4      1489055653   2017-03-09T10:34:13Z                 Organic Polenta   \n",
       "\n",
       "  generic_name quantity  ... fruits-vegetables-nuts_100g  \\\n",
       "0          NaN      1kg  ...                         NaN   \n",
       "1          NaN      NaN  ...                         NaN   \n",
       "2          NaN      NaN  ...                         NaN   \n",
       "3          NaN      NaN  ...                         NaN   \n",
       "4          NaN      NaN  ...                         NaN   \n",
       "\n",
       "  fruits-vegetables-nuts-estimate_100g collagen-meat-protein-ratio_100g  \\\n",
       "0                                  NaN                              NaN   \n",
       "1                                  NaN                              NaN   \n",
       "2                                  NaN                              NaN   \n",
       "3                                  NaN                              NaN   \n",
       "4                                  NaN                              NaN   \n",
       "\n",
       "  cocoa_100g chlorophyl_100g carbon-footprint_100g nutrition-score-fr_100g  \\\n",
       "0        NaN             NaN                   NaN                     NaN   \n",
       "1        NaN             NaN                   NaN                    14.0   \n",
       "2        NaN             NaN                   NaN                     0.0   \n",
       "3        NaN             NaN                   NaN                    12.0   \n",
       "4        NaN             NaN                   NaN                     NaN   \n",
       "\n",
       "  nutrition-score-uk_100g glycemic-index_100g water-hardness_100g  \n",
       "0                     NaN                 NaN                 NaN  \n",
       "1                    14.0                 NaN                 NaN  \n",
       "2                     0.0                 NaN                 NaN  \n",
       "3                    12.0                 NaN                 NaN  \n",
       "4                     NaN                 NaN                 NaN  \n",
       "\n",
       "[5 rows x 163 columns]"
      ]
     },
     "execution_count": 2,
     "metadata": {},
     "output_type": "execute_result"
    }
   ],
   "source": [
    "original = pd.read_csv('../input/world-food-facts/en.openfoodfacts.org.products.tsv',\n",
    "                        delimiter='\\t',\n",
    "                       encoding='utf-8')\n",
    "\n",
    "original.head()"
   ]
  },
  {
   "cell_type": "code",
   "execution_count": 3,
   "metadata": {
    "execution": {
     "iopub.execute_input": "2021-01-08T23:47:28.619689Z",
     "iopub.status.busy": "2021-01-08T23:47:28.619016Z",
     "iopub.status.idle": "2021-01-08T23:47:28.623671Z",
     "shell.execute_reply": "2021-01-08T23:47:28.623119Z"
    },
    "papermill": {
     "duration": 0.045569,
     "end_time": "2021-01-08T23:47:28.623782",
     "exception": false,
     "start_time": "2021-01-08T23:47:28.578213",
     "status": "completed"
    },
    "tags": []
   },
   "outputs": [
    {
     "data": {
      "text/plain": [
       "(356027, 163)"
      ]
     },
     "execution_count": 3,
     "metadata": {},
     "output_type": "execute_result"
    }
   ],
   "source": [
    "original.shape"
   ]
  },
  {
   "cell_type": "code",
   "execution_count": 4,
   "metadata": {
    "execution": {
     "iopub.execute_input": "2021-01-08T23:47:28.712344Z",
     "iopub.status.busy": "2021-01-08T23:47:28.711333Z",
     "iopub.status.idle": "2021-01-08T23:47:28.716740Z",
     "shell.execute_reply": "2021-01-08T23:47:28.717420Z"
    },
    "papermill": {
     "duration": 0.059041,
     "end_time": "2021-01-08T23:47:28.717609",
     "exception": false,
     "start_time": "2021-01-08T23:47:28.658568",
     "status": "completed"
    },
    "tags": []
   },
   "outputs": [
    {
     "data": {
      "text/plain": [
       "['code',\n",
       " 'url',\n",
       " 'creator',\n",
       " 'created_t',\n",
       " 'created_datetime',\n",
       " 'last_modified_t',\n",
       " 'last_modified_datetime',\n",
       " 'product_name',\n",
       " 'generic_name',\n",
       " 'quantity',\n",
       " 'packaging',\n",
       " 'packaging_tags',\n",
       " 'brands',\n",
       " 'brands_tags',\n",
       " 'categories',\n",
       " 'categories_tags',\n",
       " 'categories_en',\n",
       " 'origins',\n",
       " 'origins_tags',\n",
       " 'manufacturing_places',\n",
       " 'manufacturing_places_tags',\n",
       " 'labels',\n",
       " 'labels_tags',\n",
       " 'labels_en',\n",
       " 'emb_codes',\n",
       " 'emb_codes_tags',\n",
       " 'first_packaging_code_geo',\n",
       " 'cities',\n",
       " 'cities_tags',\n",
       " 'purchase_places',\n",
       " 'stores',\n",
       " 'countries',\n",
       " 'countries_tags',\n",
       " 'countries_en',\n",
       " 'ingredients_text',\n",
       " 'allergens',\n",
       " 'allergens_en',\n",
       " 'traces',\n",
       " 'traces_tags',\n",
       " 'traces_en',\n",
       " 'serving_size',\n",
       " 'no_nutriments',\n",
       " 'additives_n',\n",
       " 'additives',\n",
       " 'additives_tags',\n",
       " 'additives_en',\n",
       " 'ingredients_from_palm_oil_n',\n",
       " 'ingredients_from_palm_oil',\n",
       " 'ingredients_from_palm_oil_tags',\n",
       " 'ingredients_that_may_be_from_palm_oil_n',\n",
       " 'ingredients_that_may_be_from_palm_oil',\n",
       " 'ingredients_that_may_be_from_palm_oil_tags',\n",
       " 'nutrition_grade_uk',\n",
       " 'nutrition_grade_fr',\n",
       " 'pnns_groups_1',\n",
       " 'pnns_groups_2',\n",
       " 'states',\n",
       " 'states_tags',\n",
       " 'states_en',\n",
       " 'main_category',\n",
       " 'main_category_en',\n",
       " 'image_url',\n",
       " 'image_small_url',\n",
       " 'energy_100g',\n",
       " 'energy-from-fat_100g',\n",
       " 'fat_100g',\n",
       " 'saturated-fat_100g',\n",
       " '-butyric-acid_100g',\n",
       " '-caproic-acid_100g',\n",
       " '-caprylic-acid_100g',\n",
       " '-capric-acid_100g',\n",
       " '-lauric-acid_100g',\n",
       " '-myristic-acid_100g',\n",
       " '-palmitic-acid_100g',\n",
       " '-stearic-acid_100g',\n",
       " '-arachidic-acid_100g',\n",
       " '-behenic-acid_100g',\n",
       " '-lignoceric-acid_100g',\n",
       " '-cerotic-acid_100g',\n",
       " '-montanic-acid_100g',\n",
       " '-melissic-acid_100g',\n",
       " 'monounsaturated-fat_100g',\n",
       " 'polyunsaturated-fat_100g',\n",
       " 'omega-3-fat_100g',\n",
       " '-alpha-linolenic-acid_100g',\n",
       " '-eicosapentaenoic-acid_100g',\n",
       " '-docosahexaenoic-acid_100g',\n",
       " 'omega-6-fat_100g',\n",
       " '-linoleic-acid_100g',\n",
       " '-arachidonic-acid_100g',\n",
       " '-gamma-linolenic-acid_100g',\n",
       " '-dihomo-gamma-linolenic-acid_100g',\n",
       " 'omega-9-fat_100g',\n",
       " '-oleic-acid_100g',\n",
       " '-elaidic-acid_100g',\n",
       " '-gondoic-acid_100g',\n",
       " '-mead-acid_100g',\n",
       " '-erucic-acid_100g',\n",
       " '-nervonic-acid_100g',\n",
       " 'trans-fat_100g',\n",
       " 'cholesterol_100g',\n",
       " 'carbohydrates_100g',\n",
       " 'sugars_100g',\n",
       " '-sucrose_100g',\n",
       " '-glucose_100g',\n",
       " '-fructose_100g',\n",
       " '-lactose_100g',\n",
       " '-maltose_100g',\n",
       " '-maltodextrins_100g',\n",
       " 'starch_100g',\n",
       " 'polyols_100g',\n",
       " 'fiber_100g',\n",
       " 'proteins_100g',\n",
       " 'casein_100g',\n",
       " 'serum-proteins_100g',\n",
       " 'nucleotides_100g',\n",
       " 'salt_100g',\n",
       " 'sodium_100g',\n",
       " 'alcohol_100g',\n",
       " 'vitamin-a_100g',\n",
       " 'beta-carotene_100g',\n",
       " 'vitamin-d_100g',\n",
       " 'vitamin-e_100g',\n",
       " 'vitamin-k_100g',\n",
       " 'vitamin-c_100g',\n",
       " 'vitamin-b1_100g',\n",
       " 'vitamin-b2_100g',\n",
       " 'vitamin-pp_100g',\n",
       " 'vitamin-b6_100g',\n",
       " 'vitamin-b9_100g',\n",
       " 'folates_100g',\n",
       " 'vitamin-b12_100g',\n",
       " 'biotin_100g',\n",
       " 'pantothenic-acid_100g',\n",
       " 'silica_100g',\n",
       " 'bicarbonate_100g',\n",
       " 'potassium_100g',\n",
       " 'chloride_100g',\n",
       " 'calcium_100g',\n",
       " 'phosphorus_100g',\n",
       " 'iron_100g',\n",
       " 'magnesium_100g',\n",
       " 'zinc_100g',\n",
       " 'copper_100g',\n",
       " 'manganese_100g',\n",
       " 'fluoride_100g',\n",
       " 'selenium_100g',\n",
       " 'chromium_100g',\n",
       " 'molybdenum_100g',\n",
       " 'iodine_100g',\n",
       " 'caffeine_100g',\n",
       " 'taurine_100g',\n",
       " 'ph_100g',\n",
       " 'fruits-vegetables-nuts_100g',\n",
       " 'fruits-vegetables-nuts-estimate_100g',\n",
       " 'collagen-meat-protein-ratio_100g',\n",
       " 'cocoa_100g',\n",
       " 'chlorophyl_100g',\n",
       " 'carbon-footprint_100g',\n",
       " 'nutrition-score-fr_100g',\n",
       " 'nutrition-score-uk_100g',\n",
       " 'glycemic-index_100g',\n",
       " 'water-hardness_100g']"
      ]
     },
     "execution_count": 4,
     "metadata": {},
     "output_type": "execute_result"
    }
   ],
   "source": [
    "list(original.columns)"
   ]
  },
  {
   "cell_type": "code",
   "execution_count": 5,
   "metadata": {
    "execution": {
     "iopub.execute_input": "2021-01-08T23:47:28.855768Z",
     "iopub.status.busy": "2021-01-08T23:47:28.850218Z",
     "iopub.status.idle": "2021-01-08T23:47:28.865677Z",
     "shell.execute_reply": "2021-01-08T23:47:28.866211Z"
    },
    "papermill": {
     "duration": 0.092175,
     "end_time": "2021-01-08T23:47:28.866384",
     "exception": false,
     "start_time": "2021-01-08T23:47:28.774209",
     "status": "completed"
    },
    "tags": []
   },
   "outputs": [
    {
     "name": "stdout",
     "output_type": "stream",
     "text": [
      "<class 'pandas.core.frame.DataFrame'>\n",
      "RangeIndex: 356027 entries, 0 to 356026\n",
      "Columns: 163 entries, code to water-hardness_100g\n",
      "dtypes: float64(107), object(56)\n",
      "memory usage: 442.8+ MB\n"
     ]
    }
   ],
   "source": [
    "original.info()"
   ]
  },
  {
   "cell_type": "code",
   "execution_count": 6,
   "metadata": {
    "execution": {
     "iopub.execute_input": "2021-01-08T23:47:28.951883Z",
     "iopub.status.busy": "2021-01-08T23:47:28.950860Z",
     "iopub.status.idle": "2021-01-08T23:47:28.959004Z",
     "shell.execute_reply": "2021-01-08T23:47:28.958326Z"
    },
    "papermill": {
     "duration": 0.055765,
     "end_time": "2021-01-08T23:47:28.959132",
     "exception": false,
     "start_time": "2021-01-08T23:47:28.903367",
     "status": "completed"
    },
    "tags": []
   },
   "outputs": [
    {
     "data": {
      "text/plain": [
       "code                        object\n",
       "url                         object\n",
       "creator                     object\n",
       "created_t                   object\n",
       "created_datetime            object\n",
       "                            ...   \n",
       "carbon-footprint_100g      float64\n",
       "nutrition-score-fr_100g    float64\n",
       "nutrition-score-uk_100g    float64\n",
       "glycemic-index_100g        float64\n",
       "water-hardness_100g        float64\n",
       "Length: 163, dtype: object"
      ]
     },
     "execution_count": 6,
     "metadata": {},
     "output_type": "execute_result"
    }
   ],
   "source": [
    "original.dtypes"
   ]
  },
  {
   "cell_type": "code",
   "execution_count": 7,
   "metadata": {
    "execution": {
     "iopub.execute_input": "2021-01-08T23:47:29.095117Z",
     "iopub.status.busy": "2021-01-08T23:47:29.094176Z",
     "iopub.status.idle": "2021-01-08T23:47:29.927046Z",
     "shell.execute_reply": "2021-01-08T23:47:29.926476Z"
    },
    "papermill": {
     "duration": 0.931854,
     "end_time": "2021-01-08T23:47:29.927156",
     "exception": false,
     "start_time": "2021-01-08T23:47:28.995302",
     "status": "completed"
    },
    "tags": []
   },
   "outputs": [
    {
     "data": {
      "text/html": [
       "<div>\n",
       "<style scoped>\n",
       "    .dataframe tbody tr th:only-of-type {\n",
       "        vertical-align: middle;\n",
       "    }\n",
       "\n",
       "    .dataframe tbody tr th {\n",
       "        vertical-align: top;\n",
       "    }\n",
       "\n",
       "    .dataframe thead th {\n",
       "        text-align: right;\n",
       "    }\n",
       "</style>\n",
       "<table border=\"1\" class=\"dataframe\">\n",
       "  <thead>\n",
       "    <tr style=\"text-align: right;\">\n",
       "      <th></th>\n",
       "      <th>no_nutriments</th>\n",
       "      <th>additives_n</th>\n",
       "      <th>ingredients_from_palm_oil_n</th>\n",
       "      <th>ingredients_from_palm_oil</th>\n",
       "      <th>ingredients_that_may_be_from_palm_oil_n</th>\n",
       "      <th>ingredients_that_may_be_from_palm_oil</th>\n",
       "      <th>nutrition_grade_uk</th>\n",
       "      <th>energy_100g</th>\n",
       "      <th>energy-from-fat_100g</th>\n",
       "      <th>fat_100g</th>\n",
       "      <th>...</th>\n",
       "      <th>fruits-vegetables-nuts_100g</th>\n",
       "      <th>fruits-vegetables-nuts-estimate_100g</th>\n",
       "      <th>collagen-meat-protein-ratio_100g</th>\n",
       "      <th>cocoa_100g</th>\n",
       "      <th>chlorophyl_100g</th>\n",
       "      <th>carbon-footprint_100g</th>\n",
       "      <th>nutrition-score-fr_100g</th>\n",
       "      <th>nutrition-score-uk_100g</th>\n",
       "      <th>glycemic-index_100g</th>\n",
       "      <th>water-hardness_100g</th>\n",
       "    </tr>\n",
       "  </thead>\n",
       "  <tbody>\n",
       "    <tr>\n",
       "      <th>count</th>\n",
       "      <td>0.0</td>\n",
       "      <td>283867.000000</td>\n",
       "      <td>283867.000000</td>\n",
       "      <td>0.0</td>\n",
       "      <td>283867.000000</td>\n",
       "      <td>0.0</td>\n",
       "      <td>0.0</td>\n",
       "      <td>295367.000000</td>\n",
       "      <td>869.000000</td>\n",
       "      <td>2.794970e+05</td>\n",
       "      <td>...</td>\n",
       "      <td>3228.000000</td>\n",
       "      <td>404.000000</td>\n",
       "      <td>182.000000</td>\n",
       "      <td>1383.000000</td>\n",
       "      <td>0.0</td>\n",
       "      <td>278.000000</td>\n",
       "      <td>254856.000000</td>\n",
       "      <td>254856.000000</td>\n",
       "      <td>0.0</td>\n",
       "      <td>0.0</td>\n",
       "    </tr>\n",
       "    <tr>\n",
       "      <th>mean</th>\n",
       "      <td>NaN</td>\n",
       "      <td>1.876851</td>\n",
       "      <td>0.023430</td>\n",
       "      <td>NaN</td>\n",
       "      <td>0.059736</td>\n",
       "      <td>NaN</td>\n",
       "      <td>NaN</td>\n",
       "      <td>1125.453320</td>\n",
       "      <td>587.216617</td>\n",
       "      <td>5.606587e+04</td>\n",
       "      <td>...</td>\n",
       "      <td>33.392680</td>\n",
       "      <td>60.360124</td>\n",
       "      <td>15.362637</td>\n",
       "      <td>52.102675</td>\n",
       "      <td>NaN</td>\n",
       "      <td>335.790664</td>\n",
       "      <td>9.166137</td>\n",
       "      <td>8.980656</td>\n",
       "      <td>NaN</td>\n",
       "      <td>NaN</td>\n",
       "    </tr>\n",
       "    <tr>\n",
       "      <th>std</th>\n",
       "      <td>NaN</td>\n",
       "      <td>2.501022</td>\n",
       "      <td>0.153094</td>\n",
       "      <td>NaN</td>\n",
       "      <td>0.280660</td>\n",
       "      <td>NaN</td>\n",
       "      <td>NaN</td>\n",
       "      <td>936.825952</td>\n",
       "      <td>713.255708</td>\n",
       "      <td>2.963385e+07</td>\n",
       "      <td>...</td>\n",
       "      <td>32.906834</td>\n",
       "      <td>29.262350</td>\n",
       "      <td>3.692658</td>\n",
       "      <td>19.028361</td>\n",
       "      <td>NaN</td>\n",
       "      <td>423.244817</td>\n",
       "      <td>8.999870</td>\n",
       "      <td>9.151757</td>\n",
       "      <td>NaN</td>\n",
       "      <td>NaN</td>\n",
       "    </tr>\n",
       "    <tr>\n",
       "      <th>min</th>\n",
       "      <td>NaN</td>\n",
       "      <td>0.000000</td>\n",
       "      <td>0.000000</td>\n",
       "      <td>NaN</td>\n",
       "      <td>0.000000</td>\n",
       "      <td>NaN</td>\n",
       "      <td>NaN</td>\n",
       "      <td>0.000000</td>\n",
       "      <td>0.000000</td>\n",
       "      <td>0.000000e+00</td>\n",
       "      <td>...</td>\n",
       "      <td>0.000000</td>\n",
       "      <td>0.000000</td>\n",
       "      <td>8.000000</td>\n",
       "      <td>6.000000</td>\n",
       "      <td>NaN</td>\n",
       "      <td>0.000000</td>\n",
       "      <td>-15.000000</td>\n",
       "      <td>-15.000000</td>\n",
       "      <td>NaN</td>\n",
       "      <td>NaN</td>\n",
       "    </tr>\n",
       "    <tr>\n",
       "      <th>25%</th>\n",
       "      <td>NaN</td>\n",
       "      <td>0.000000</td>\n",
       "      <td>0.000000</td>\n",
       "      <td>NaN</td>\n",
       "      <td>0.000000</td>\n",
       "      <td>NaN</td>\n",
       "      <td>NaN</td>\n",
       "      <td>382.000000</td>\n",
       "      <td>49.400000</td>\n",
       "      <td>1.000000e-01</td>\n",
       "      <td>...</td>\n",
       "      <td>0.000000</td>\n",
       "      <td>45.000000</td>\n",
       "      <td>12.000000</td>\n",
       "      <td>33.000000</td>\n",
       "      <td>NaN</td>\n",
       "      <td>82.650000</td>\n",
       "      <td>1.000000</td>\n",
       "      <td>1.000000</td>\n",
       "      <td>NaN</td>\n",
       "      <td>NaN</td>\n",
       "    </tr>\n",
       "    <tr>\n",
       "      <th>50%</th>\n",
       "      <td>NaN</td>\n",
       "      <td>1.000000</td>\n",
       "      <td>0.000000</td>\n",
       "      <td>NaN</td>\n",
       "      <td>0.000000</td>\n",
       "      <td>NaN</td>\n",
       "      <td>NaN</td>\n",
       "      <td>1092.000000</td>\n",
       "      <td>300.000000</td>\n",
       "      <td>5.290000e+00</td>\n",
       "      <td>...</td>\n",
       "      <td>25.000000</td>\n",
       "      <td>58.000000</td>\n",
       "      <td>15.000000</td>\n",
       "      <td>52.000000</td>\n",
       "      <td>NaN</td>\n",
       "      <td>190.950000</td>\n",
       "      <td>10.000000</td>\n",
       "      <td>9.000000</td>\n",
       "      <td>NaN</td>\n",
       "      <td>NaN</td>\n",
       "    </tr>\n",
       "    <tr>\n",
       "      <th>75%</th>\n",
       "      <td>NaN</td>\n",
       "      <td>3.000000</td>\n",
       "      <td>0.000000</td>\n",
       "      <td>NaN</td>\n",
       "      <td>0.000000</td>\n",
       "      <td>NaN</td>\n",
       "      <td>NaN</td>\n",
       "      <td>1674.000000</td>\n",
       "      <td>900.000000</td>\n",
       "      <td>2.000000e+01</td>\n",
       "      <td>...</td>\n",
       "      <td>55.000000</td>\n",
       "      <td>93.000000</td>\n",
       "      <td>15.000000</td>\n",
       "      <td>70.000000</td>\n",
       "      <td>NaN</td>\n",
       "      <td>378.700000</td>\n",
       "      <td>16.000000</td>\n",
       "      <td>16.000000</td>\n",
       "      <td>NaN</td>\n",
       "      <td>NaN</td>\n",
       "    </tr>\n",
       "    <tr>\n",
       "      <th>max</th>\n",
       "      <td>NaN</td>\n",
       "      <td>30.000000</td>\n",
       "      <td>2.000000</td>\n",
       "      <td>NaN</td>\n",
       "      <td>6.000000</td>\n",
       "      <td>NaN</td>\n",
       "      <td>NaN</td>\n",
       "      <td>231199.000000</td>\n",
       "      <td>3830.000000</td>\n",
       "      <td>1.566667e+10</td>\n",
       "      <td>...</td>\n",
       "      <td>100.000000</td>\n",
       "      <td>100.000000</td>\n",
       "      <td>25.000000</td>\n",
       "      <td>100.000000</td>\n",
       "      <td>NaN</td>\n",
       "      <td>2842.000000</td>\n",
       "      <td>40.000000</td>\n",
       "      <td>40.000000</td>\n",
       "      <td>NaN</td>\n",
       "      <td>NaN</td>\n",
       "    </tr>\n",
       "  </tbody>\n",
       "</table>\n",
       "<p>8 rows × 107 columns</p>\n",
       "</div>"
      ],
      "text/plain": [
       "       no_nutriments    additives_n  ingredients_from_palm_oil_n  \\\n",
       "count            0.0  283867.000000                283867.000000   \n",
       "mean             NaN       1.876851                     0.023430   \n",
       "std              NaN       2.501022                     0.153094   \n",
       "min              NaN       0.000000                     0.000000   \n",
       "25%              NaN       0.000000                     0.000000   \n",
       "50%              NaN       1.000000                     0.000000   \n",
       "75%              NaN       3.000000                     0.000000   \n",
       "max              NaN      30.000000                     2.000000   \n",
       "\n",
       "       ingredients_from_palm_oil  ingredients_that_may_be_from_palm_oil_n  \\\n",
       "count                        0.0                            283867.000000   \n",
       "mean                         NaN                                 0.059736   \n",
       "std                          NaN                                 0.280660   \n",
       "min                          NaN                                 0.000000   \n",
       "25%                          NaN                                 0.000000   \n",
       "50%                          NaN                                 0.000000   \n",
       "75%                          NaN                                 0.000000   \n",
       "max                          NaN                                 6.000000   \n",
       "\n",
       "       ingredients_that_may_be_from_palm_oil  nutrition_grade_uk  \\\n",
       "count                                    0.0                 0.0   \n",
       "mean                                     NaN                 NaN   \n",
       "std                                      NaN                 NaN   \n",
       "min                                      NaN                 NaN   \n",
       "25%                                      NaN                 NaN   \n",
       "50%                                      NaN                 NaN   \n",
       "75%                                      NaN                 NaN   \n",
       "max                                      NaN                 NaN   \n",
       "\n",
       "         energy_100g  energy-from-fat_100g      fat_100g  ...  \\\n",
       "count  295367.000000            869.000000  2.794970e+05  ...   \n",
       "mean     1125.453320            587.216617  5.606587e+04  ...   \n",
       "std       936.825952            713.255708  2.963385e+07  ...   \n",
       "min         0.000000              0.000000  0.000000e+00  ...   \n",
       "25%       382.000000             49.400000  1.000000e-01  ...   \n",
       "50%      1092.000000            300.000000  5.290000e+00  ...   \n",
       "75%      1674.000000            900.000000  2.000000e+01  ...   \n",
       "max    231199.000000           3830.000000  1.566667e+10  ...   \n",
       "\n",
       "       fruits-vegetables-nuts_100g  fruits-vegetables-nuts-estimate_100g  \\\n",
       "count                  3228.000000                            404.000000   \n",
       "mean                     33.392680                             60.360124   \n",
       "std                      32.906834                             29.262350   \n",
       "min                       0.000000                              0.000000   \n",
       "25%                       0.000000                             45.000000   \n",
       "50%                      25.000000                             58.000000   \n",
       "75%                      55.000000                             93.000000   \n",
       "max                     100.000000                            100.000000   \n",
       "\n",
       "       collagen-meat-protein-ratio_100g   cocoa_100g  chlorophyl_100g  \\\n",
       "count                        182.000000  1383.000000              0.0   \n",
       "mean                          15.362637    52.102675              NaN   \n",
       "std                            3.692658    19.028361              NaN   \n",
       "min                            8.000000     6.000000              NaN   \n",
       "25%                           12.000000    33.000000              NaN   \n",
       "50%                           15.000000    52.000000              NaN   \n",
       "75%                           15.000000    70.000000              NaN   \n",
       "max                           25.000000   100.000000              NaN   \n",
       "\n",
       "       carbon-footprint_100g  nutrition-score-fr_100g  \\\n",
       "count             278.000000            254856.000000   \n",
       "mean              335.790664                 9.166137   \n",
       "std               423.244817                 8.999870   \n",
       "min                 0.000000               -15.000000   \n",
       "25%                82.650000                 1.000000   \n",
       "50%               190.950000                10.000000   \n",
       "75%               378.700000                16.000000   \n",
       "max              2842.000000                40.000000   \n",
       "\n",
       "       nutrition-score-uk_100g  glycemic-index_100g  water-hardness_100g  \n",
       "count            254856.000000                  0.0                  0.0  \n",
       "mean                  8.980656                  NaN                  NaN  \n",
       "std                   9.151757                  NaN                  NaN  \n",
       "min                 -15.000000                  NaN                  NaN  \n",
       "25%                   1.000000                  NaN                  NaN  \n",
       "50%                   9.000000                  NaN                  NaN  \n",
       "75%                  16.000000                  NaN                  NaN  \n",
       "max                  40.000000                  NaN                  NaN  \n",
       "\n",
       "[8 rows x 107 columns]"
      ]
     },
     "execution_count": 7,
     "metadata": {},
     "output_type": "execute_result"
    }
   ],
   "source": [
    "original.describe()"
   ]
  },
  {
   "cell_type": "code",
   "execution_count": 8,
   "metadata": {
    "execution": {
     "iopub.execute_input": "2021-01-08T23:47:30.008830Z",
     "iopub.status.busy": "2021-01-08T23:47:30.008183Z",
     "iopub.status.idle": "2021-01-08T23:47:38.094751Z",
     "shell.execute_reply": "2021-01-08T23:47:38.095262Z"
    },
    "papermill": {
     "duration": 8.131026,
     "end_time": "2021-01-08T23:47:38.095409",
     "exception": false,
     "start_time": "2021-01-08T23:47:29.964383",
     "status": "completed"
    },
    "tags": []
   },
   "outputs": [
    {
     "data": {
      "text/html": [
       "<div>\n",
       "<style scoped>\n",
       "    .dataframe tbody tr th:only-of-type {\n",
       "        vertical-align: middle;\n",
       "    }\n",
       "\n",
       "    .dataframe tbody tr th {\n",
       "        vertical-align: top;\n",
       "    }\n",
       "\n",
       "    .dataframe thead th {\n",
       "        text-align: right;\n",
       "    }\n",
       "</style>\n",
       "<table border=\"1\" class=\"dataframe\">\n",
       "  <thead>\n",
       "    <tr style=\"text-align: right;\">\n",
       "      <th></th>\n",
       "      <th>code</th>\n",
       "      <th>url</th>\n",
       "      <th>creator</th>\n",
       "      <th>created_t</th>\n",
       "      <th>created_datetime</th>\n",
       "      <th>last_modified_t</th>\n",
       "      <th>last_modified_datetime</th>\n",
       "      <th>product_name</th>\n",
       "      <th>generic_name</th>\n",
       "      <th>quantity</th>\n",
       "      <th>...</th>\n",
       "      <th>nutrition_grade_fr</th>\n",
       "      <th>pnns_groups_1</th>\n",
       "      <th>pnns_groups_2</th>\n",
       "      <th>states</th>\n",
       "      <th>states_tags</th>\n",
       "      <th>states_en</th>\n",
       "      <th>main_category</th>\n",
       "      <th>main_category_en</th>\n",
       "      <th>image_url</th>\n",
       "      <th>image_small_url</th>\n",
       "    </tr>\n",
       "  </thead>\n",
       "  <tbody>\n",
       "    <tr>\n",
       "      <th>count</th>\n",
       "      <td>356001</td>\n",
       "      <td>356001</td>\n",
       "      <td>356024</td>\n",
       "      <td>356024</td>\n",
       "      <td>356017</td>\n",
       "      <td>356027</td>\n",
       "      <td>356027</td>\n",
       "      <td>338515</td>\n",
       "      <td>57714</td>\n",
       "      <td>119285</td>\n",
       "      <td>...</td>\n",
       "      <td>254856</td>\n",
       "      <td>129006</td>\n",
       "      <td>132689</td>\n",
       "      <td>355975</td>\n",
       "      <td>355975</td>\n",
       "      <td>355975</td>\n",
       "      <td>103249</td>\n",
       "      <td>103249</td>\n",
       "      <td>75725</td>\n",
       "      <td>75725</td>\n",
       "    </tr>\n",
       "    <tr>\n",
       "      <th>unique</th>\n",
       "      <td>355839</td>\n",
       "      <td>356001</td>\n",
       "      <td>3890</td>\n",
       "      <td>224812</td>\n",
       "      <td>224752</td>\n",
       "      <td>216936</td>\n",
       "      <td>216836</td>\n",
       "      <td>249245</td>\n",
       "      <td>42451</td>\n",
       "      <td>15563</td>\n",
       "      <td>...</td>\n",
       "      <td>5</td>\n",
       "      <td>14</td>\n",
       "      <td>42</td>\n",
       "      <td>1068</td>\n",
       "      <td>1068</td>\n",
       "      <td>1068</td>\n",
       "      <td>3639</td>\n",
       "      <td>3639</td>\n",
       "      <td>75725</td>\n",
       "      <td>75725</td>\n",
       "    </tr>\n",
       "    <tr>\n",
       "      <th>top</th>\n",
       "      <td>70650800367</td>\n",
       "      <td>http://world-en.openfoodfacts.org/product/0787...</td>\n",
       "      <td>usda-ndb-import</td>\n",
       "      <td>1489055829</td>\n",
       "      <td>2017-03-09T10:37:09Z</td>\n",
       "      <td>1439141742</td>\n",
       "      <td>2015-08-09T17:35:42Z</td>\n",
       "      <td>Ice Cream</td>\n",
       "      <td>Pâtes alimentaires au blé dur de qualité supér...</td>\n",
       "      <td>500 g</td>\n",
       "      <td>...</td>\n",
       "      <td>d</td>\n",
       "      <td>unknown</td>\n",
       "      <td>unknown</td>\n",
       "      <td>en:to-be-completed, en:nutrition-facts-complet...</td>\n",
       "      <td>en:to-be-completed,en:nutrition-facts-complete...</td>\n",
       "      <td>To be completed,Nutrition facts completed,Ingr...</td>\n",
       "      <td>en:plant-based-foods-and-beverages</td>\n",
       "      <td>Plant-based foods and beverages</td>\n",
       "      <td>http://en.openfoodfacts.org/images/products/32...</td>\n",
       "      <td>http://en.openfoodfacts.org/images/products/30...</td>\n",
       "    </tr>\n",
       "    <tr>\n",
       "      <th>freq</th>\n",
       "      <td>3</td>\n",
       "      <td>1</td>\n",
       "      <td>169868</td>\n",
       "      <td>20</td>\n",
       "      <td>20</td>\n",
       "      <td>30</td>\n",
       "      <td>30</td>\n",
       "      <td>411</td>\n",
       "      <td>201</td>\n",
       "      <td>5285</td>\n",
       "      <td>...</td>\n",
       "      <td>72436</td>\n",
       "      <td>43603</td>\n",
       "      <td>43603</td>\n",
       "      <td>167862</td>\n",
       "      <td>167862</td>\n",
       "      <td>167862</td>\n",
       "      <td>22950</td>\n",
       "      <td>22950</td>\n",
       "      <td>1</td>\n",
       "      <td>1</td>\n",
       "    </tr>\n",
       "  </tbody>\n",
       "</table>\n",
       "<p>4 rows × 56 columns</p>\n",
       "</div>"
      ],
      "text/plain": [
       "               code                                                url  \\\n",
       "count        356001                                             356001   \n",
       "unique       355839                                             356001   \n",
       "top     70650800367  http://world-en.openfoodfacts.org/product/0787...   \n",
       "freq              3                                                  1   \n",
       "\n",
       "                creator   created_t      created_datetime  last_modified_t  \\\n",
       "count            356024      356024                356017           356027   \n",
       "unique             3890      224812                224752           216936   \n",
       "top     usda-ndb-import  1489055829  2017-03-09T10:37:09Z       1439141742   \n",
       "freq             169868          20                    20               30   \n",
       "\n",
       "       last_modified_datetime product_name  \\\n",
       "count                  356027       338515   \n",
       "unique                 216836       249245   \n",
       "top      2015-08-09T17:35:42Z    Ice Cream   \n",
       "freq                       30          411   \n",
       "\n",
       "                                             generic_name quantity  ...  \\\n",
       "count                                               57714   119285  ...   \n",
       "unique                                              42451    15563  ...   \n",
       "top     Pâtes alimentaires au blé dur de qualité supér...    500 g  ...   \n",
       "freq                                                  201     5285  ...   \n",
       "\n",
       "       nutrition_grade_fr pnns_groups_1 pnns_groups_2  \\\n",
       "count              254856        129006        132689   \n",
       "unique                  5            14            42   \n",
       "top                     d       unknown       unknown   \n",
       "freq                72436         43603         43603   \n",
       "\n",
       "                                                   states  \\\n",
       "count                                              355975   \n",
       "unique                                               1068   \n",
       "top     en:to-be-completed, en:nutrition-facts-complet...   \n",
       "freq                                               167862   \n",
       "\n",
       "                                              states_tags  \\\n",
       "count                                              355975   \n",
       "unique                                               1068   \n",
       "top     en:to-be-completed,en:nutrition-facts-complete...   \n",
       "freq                                               167862   \n",
       "\n",
       "                                                states_en  \\\n",
       "count                                              355975   \n",
       "unique                                               1068   \n",
       "top     To be completed,Nutrition facts completed,Ingr...   \n",
       "freq                                               167862   \n",
       "\n",
       "                             main_category                 main_category_en  \\\n",
       "count                               103249                           103249   \n",
       "unique                                3639                             3639   \n",
       "top     en:plant-based-foods-and-beverages  Plant-based foods and beverages   \n",
       "freq                                 22950                            22950   \n",
       "\n",
       "                                                image_url  \\\n",
       "count                                               75725   \n",
       "unique                                              75725   \n",
       "top     http://en.openfoodfacts.org/images/products/32...   \n",
       "freq                                                    1   \n",
       "\n",
       "                                          image_small_url  \n",
       "count                                               75725  \n",
       "unique                                              75725  \n",
       "top     http://en.openfoodfacts.org/images/products/30...  \n",
       "freq                                                    1  \n",
       "\n",
       "[4 rows x 56 columns]"
      ]
     },
     "execution_count": 8,
     "metadata": {},
     "output_type": "execute_result"
    }
   ],
   "source": [
    "original.describe(include=['object', 'bool'])"
   ]
  },
  {
   "cell_type": "markdown",
   "metadata": {
    "papermill": {
     "duration": 0.049488,
     "end_time": "2021-01-08T23:47:38.183010",
     "exception": false,
     "start_time": "2021-01-08T23:47:38.133522",
     "status": "completed"
    },
    "tags": []
   },
   "source": [
    "je constate que nous avons plusieurs variables catégorielles à savoir: creator, product_name, generic_name, main_category, main_category_en. je crois que nous pouvons créer un système de recommandation en fonction du product_name, creato et main category."
   ]
  },
  {
   "cell_type": "code",
   "execution_count": 9,
   "metadata": {
    "execution": {
     "iopub.execute_input": "2021-01-08T23:47:38.322642Z",
     "iopub.status.busy": "2021-01-08T23:47:38.305451Z",
     "iopub.status.idle": "2021-01-08T23:47:38.331075Z",
     "shell.execute_reply": "2021-01-08T23:47:38.330193Z"
    },
    "papermill": {
     "duration": 0.101244,
     "end_time": "2021-01-08T23:47:38.331209",
     "exception": false,
     "start_time": "2021-01-08T23:47:38.229965",
     "status": "completed"
    },
    "tags": []
   },
   "outputs": [
    {
     "data": {
      "text/plain": [
       "d    72436\n",
       "c    52870\n",
       "e    50236\n",
       "a    40304\n",
       "b    39010\n",
       "Name: nutrition_grade_fr, dtype: int64"
      ]
     },
     "execution_count": 9,
     "metadata": {},
     "output_type": "execute_result"
    }
   ],
   "source": [
    "original['nutrition_grade_fr'].value_counts()"
   ]
  },
  {
   "cell_type": "code",
   "execution_count": 10,
   "metadata": {
    "execution": {
     "iopub.execute_input": "2021-01-08T23:47:38.486091Z",
     "iopub.status.busy": "2021-01-08T23:47:38.470221Z",
     "iopub.status.idle": "2021-01-08T23:47:38.495228Z",
     "shell.execute_reply": "2021-01-08T23:47:38.494558Z"
    },
    "papermill": {
     "duration": 0.106018,
     "end_time": "2021-01-08T23:47:38.495344",
     "exception": false,
     "start_time": "2021-01-08T23:47:38.389326",
     "status": "completed"
    },
    "tags": []
   },
   "outputs": [
    {
     "data": {
      "text/plain": [
       "unknown                    43603\n",
       "Sugary snacks              14750\n",
       "Beverages                  13476\n",
       "Milk and dairy products    10733\n",
       "Cereals and potatoes       10078\n",
       "Fish Meat Eggs              9473\n",
       "Composite foods             7972\n",
       "Fat and sauces              7122\n",
       "Fruits and vegetables       6763\n",
       "Salty snacks                3299\n",
       "fruits-and-vegetables       1098\n",
       "sugary-snacks                619\n",
       "cereals-and-potatoes          19\n",
       "salty-snacks                   1\n",
       "Name: pnns_groups_1, dtype: int64"
      ]
     },
     "execution_count": 10,
     "metadata": {},
     "output_type": "execute_result"
    }
   ],
   "source": [
    "original['pnns_groups_1'].value_counts()"
   ]
  },
  {
   "cell_type": "code",
   "execution_count": 11,
   "metadata": {
    "execution": {
     "iopub.execute_input": "2021-01-08T23:47:38.580518Z",
     "iopub.status.busy": "2021-01-08T23:47:38.579558Z",
     "iopub.status.idle": "2021-01-08T23:47:41.122201Z",
     "shell.execute_reply": "2021-01-08T23:47:41.121612Z"
    },
    "papermill": {
     "duration": 2.587464,
     "end_time": "2021-01-08T23:47:41.122321",
     "exception": false,
     "start_time": "2021-01-08T23:47:38.534857",
     "status": "completed"
    },
    "tags": []
   },
   "outputs": [],
   "source": [
    "original.fillna(0, inplace= True)\n",
    "original.head()\n",
    "original = original[ original[\"nutrition_grade_fr\"] != 0]"
   ]
  },
  {
   "cell_type": "code",
   "execution_count": 12,
   "metadata": {
    "execution": {
     "iopub.execute_input": "2021-01-08T23:47:41.235421Z",
     "iopub.status.busy": "2021-01-08T23:47:41.232423Z",
     "iopub.status.idle": "2021-01-08T23:47:41.241565Z",
     "shell.execute_reply": "2021-01-08T23:47:41.242078Z"
    },
    "papermill": {
     "duration": 0.080435,
     "end_time": "2021-01-08T23:47:41.242245",
     "exception": false,
     "start_time": "2021-01-08T23:47:41.161810",
     "status": "completed"
    },
    "tags": []
   },
   "outputs": [
    {
     "data": {
      "text/plain": [
       "d    72436\n",
       "c    52870\n",
       "e    50236\n",
       "a    40304\n",
       "b    39010\n",
       "Name: nutrition_grade_fr, dtype: int64"
      ]
     },
     "execution_count": 12,
     "metadata": {},
     "output_type": "execute_result"
    }
   ],
   "source": [
    "original['nutrition_grade_fr'].value_counts()"
   ]
  },
  {
   "cell_type": "code",
   "execution_count": 13,
   "metadata": {
    "execution": {
     "iopub.execute_input": "2021-01-08T23:47:41.355044Z",
     "iopub.status.busy": "2021-01-08T23:47:41.343006Z",
     "iopub.status.idle": "2021-01-08T23:47:41.363971Z",
     "shell.execute_reply": "2021-01-08T23:47:41.363211Z"
    },
    "papermill": {
     "duration": 0.082253,
     "end_time": "2021-01-08T23:47:41.364091",
     "exception": false,
     "start_time": "2021-01-08T23:47:41.281838",
     "status": "completed"
    },
    "tags": []
   },
   "outputs": [
    {
     "data": {
      "text/plain": [
       "0                                   156403\n",
       "unknown                              32352\n",
       "One-dish meals                        5419\n",
       "Biscuits and cakes                    4810\n",
       "Non-sugared beverages                 4398\n",
       "Sweets                                4093\n",
       "Cereals                               3842\n",
       "Milk and yogurt                       3561\n",
       "Cheese                                3545\n",
       "Dressings and sauces                  3395\n",
       "Processed meat                        3023\n",
       "Chocolate products                    2939\n",
       "Sweetened beverages                   2480\n",
       "Fish and seafood                      2278\n",
       "Appetizers                            2195\n",
       "Fats                                  2161\n",
       "Bread                                 1977\n",
       "Fruit juices                          1889\n",
       "Vegetables                            1875\n",
       "Breakfast cereals                     1597\n",
       "Fruits                                1413\n",
       "Meat                                  1235\n",
       "Ice cream                              864\n",
       "Dairy desserts                         843\n",
       "Legumes                                836\n",
       "Sandwich                               763\n",
       "vegetables                             741\n",
       "Nuts                                   651\n",
       "Pizza pies and quiche                  598\n",
       "pastries                               517\n",
       "Dried fruits                           504\n",
       "Soups                                  468\n",
       "Artificially sweetened beverages       388\n",
       "Fruit nectars                          342\n",
       "Eggs                                   228\n",
       "Potatoes                                93\n",
       "Tripe dishes                            55\n",
       "fruits                                  48\n",
       "Salty and fatty products                19\n",
       "cereals                                 12\n",
       "legumes                                  5\n",
       "nuts                                     1\n",
       "Name: pnns_groups_2, dtype: int64"
      ]
     },
     "execution_count": 13,
     "metadata": {},
     "output_type": "execute_result"
    }
   ],
   "source": [
    "original['pnns_groups_2'].value_counts()"
   ]
  },
  {
   "cell_type": "code",
   "execution_count": 14,
   "metadata": {
    "execution": {
     "iopub.execute_input": "2021-01-08T23:47:41.456738Z",
     "iopub.status.busy": "2021-01-08T23:47:41.456055Z",
     "iopub.status.idle": "2021-01-08T23:47:43.809026Z",
     "shell.execute_reply": "2021-01-08T23:47:43.809501Z"
    },
    "papermill": {
     "duration": 2.405181,
     "end_time": "2021-01-08T23:47:43.809643",
     "exception": false,
     "start_time": "2021-01-08T23:47:41.404462",
     "status": "completed"
    },
    "tags": []
   },
   "outputs": [
    {
     "data": {
      "text/html": [
       "<div>\n",
       "<style scoped>\n",
       "    .dataframe tbody tr th:only-of-type {\n",
       "        vertical-align: middle;\n",
       "    }\n",
       "\n",
       "    .dataframe tbody tr th {\n",
       "        vertical-align: top;\n",
       "    }\n",
       "\n",
       "    .dataframe thead th {\n",
       "        text-align: right;\n",
       "    }\n",
       "</style>\n",
       "<table border=\"1\" class=\"dataframe\">\n",
       "  <thead>\n",
       "    <tr style=\"text-align: right;\">\n",
       "      <th></th>\n",
       "      <th>code</th>\n",
       "      <th>url</th>\n",
       "      <th>creator</th>\n",
       "      <th>created_t</th>\n",
       "      <th>created_datetime</th>\n",
       "      <th>last_modified_t</th>\n",
       "      <th>last_modified_datetime</th>\n",
       "      <th>product_name</th>\n",
       "      <th>generic_name</th>\n",
       "      <th>quantity</th>\n",
       "      <th>...</th>\n",
       "      <th>fruits-vegetables-nuts_100g</th>\n",
       "      <th>fruits-vegetables-nuts-estimate_100g</th>\n",
       "      <th>collagen-meat-protein-ratio_100g</th>\n",
       "      <th>cocoa_100g</th>\n",
       "      <th>chlorophyl_100g</th>\n",
       "      <th>carbon-footprint_100g</th>\n",
       "      <th>nutrition-score-fr_100g</th>\n",
       "      <th>nutrition-score-uk_100g</th>\n",
       "      <th>glycemic-index_100g</th>\n",
       "      <th>water-hardness_100g</th>\n",
       "    </tr>\n",
       "  </thead>\n",
       "  <tbody>\n",
       "    <tr>\n",
       "      <th>1</th>\n",
       "      <td>4530</td>\n",
       "      <td>http://world-en.openfoodfacts.org/product/0000...</td>\n",
       "      <td>usda-ndb-import</td>\n",
       "      <td>1489069957</td>\n",
       "      <td>2017-03-09T14:32:37Z</td>\n",
       "      <td>1489069957</td>\n",
       "      <td>2017-03-09T14:32:37Z</td>\n",
       "      <td>Banana Chips Sweetened (Whole)</td>\n",
       "      <td>0</td>\n",
       "      <td>0</td>\n",
       "      <td>...</td>\n",
       "      <td>0.0</td>\n",
       "      <td>0.0</td>\n",
       "      <td>0.0</td>\n",
       "      <td>0.0</td>\n",
       "      <td>0.0</td>\n",
       "      <td>0.0</td>\n",
       "      <td>14.0</td>\n",
       "      <td>14.0</td>\n",
       "      <td>0.0</td>\n",
       "      <td>0.0</td>\n",
       "    </tr>\n",
       "    <tr>\n",
       "      <th>2</th>\n",
       "      <td>4559</td>\n",
       "      <td>http://world-en.openfoodfacts.org/product/0000...</td>\n",
       "      <td>usda-ndb-import</td>\n",
       "      <td>1489069957</td>\n",
       "      <td>2017-03-09T14:32:37Z</td>\n",
       "      <td>1489069957</td>\n",
       "      <td>2017-03-09T14:32:37Z</td>\n",
       "      <td>Peanuts</td>\n",
       "      <td>0</td>\n",
       "      <td>0</td>\n",
       "      <td>...</td>\n",
       "      <td>0.0</td>\n",
       "      <td>0.0</td>\n",
       "      <td>0.0</td>\n",
       "      <td>0.0</td>\n",
       "      <td>0.0</td>\n",
       "      <td>0.0</td>\n",
       "      <td>0.0</td>\n",
       "      <td>0.0</td>\n",
       "      <td>0.0</td>\n",
       "      <td>0.0</td>\n",
       "    </tr>\n",
       "    <tr>\n",
       "      <th>3</th>\n",
       "      <td>16087</td>\n",
       "      <td>http://world-en.openfoodfacts.org/product/0000...</td>\n",
       "      <td>usda-ndb-import</td>\n",
       "      <td>1489055731</td>\n",
       "      <td>2017-03-09T10:35:31Z</td>\n",
       "      <td>1489055731</td>\n",
       "      <td>2017-03-09T10:35:31Z</td>\n",
       "      <td>Organic Salted Nut Mix</td>\n",
       "      <td>0</td>\n",
       "      <td>0</td>\n",
       "      <td>...</td>\n",
       "      <td>0.0</td>\n",
       "      <td>0.0</td>\n",
       "      <td>0.0</td>\n",
       "      <td>0.0</td>\n",
       "      <td>0.0</td>\n",
       "      <td>0.0</td>\n",
       "      <td>12.0</td>\n",
       "      <td>12.0</td>\n",
       "      <td>0.0</td>\n",
       "      <td>0.0</td>\n",
       "    </tr>\n",
       "    <tr>\n",
       "      <th>7</th>\n",
       "      <td>16124</td>\n",
       "      <td>http://world-en.openfoodfacts.org/product/0000...</td>\n",
       "      <td>usda-ndb-import</td>\n",
       "      <td>1489055711</td>\n",
       "      <td>2017-03-09T10:35:11Z</td>\n",
       "      <td>1489055712</td>\n",
       "      <td>2017-03-09T10:35:12Z</td>\n",
       "      <td>Organic Muesli</td>\n",
       "      <td>0</td>\n",
       "      <td>0</td>\n",
       "      <td>...</td>\n",
       "      <td>0.0</td>\n",
       "      <td>0.0</td>\n",
       "      <td>0.0</td>\n",
       "      <td>0.0</td>\n",
       "      <td>0.0</td>\n",
       "      <td>0.0</td>\n",
       "      <td>7.0</td>\n",
       "      <td>7.0</td>\n",
       "      <td>0.0</td>\n",
       "      <td>0.0</td>\n",
       "    </tr>\n",
       "    <tr>\n",
       "      <th>12</th>\n",
       "      <td>16872</td>\n",
       "      <td>http://world-en.openfoodfacts.org/product/0000...</td>\n",
       "      <td>usda-ndb-import</td>\n",
       "      <td>1489055650</td>\n",
       "      <td>2017-03-09T10:34:10Z</td>\n",
       "      <td>1489055651</td>\n",
       "      <td>2017-03-09T10:34:11Z</td>\n",
       "      <td>Zen Party Mix</td>\n",
       "      <td>0</td>\n",
       "      <td>0</td>\n",
       "      <td>...</td>\n",
       "      <td>0.0</td>\n",
       "      <td>0.0</td>\n",
       "      <td>0.0</td>\n",
       "      <td>0.0</td>\n",
       "      <td>0.0</td>\n",
       "      <td>0.0</td>\n",
       "      <td>12.0</td>\n",
       "      <td>12.0</td>\n",
       "      <td>0.0</td>\n",
       "      <td>0.0</td>\n",
       "    </tr>\n",
       "  </tbody>\n",
       "</table>\n",
       "<p>5 rows × 163 columns</p>\n",
       "</div>"
      ],
      "text/plain": [
       "     code                                                url          creator  \\\n",
       "1    4530  http://world-en.openfoodfacts.org/product/0000...  usda-ndb-import   \n",
       "2    4559  http://world-en.openfoodfacts.org/product/0000...  usda-ndb-import   \n",
       "3   16087  http://world-en.openfoodfacts.org/product/0000...  usda-ndb-import   \n",
       "7   16124  http://world-en.openfoodfacts.org/product/0000...  usda-ndb-import   \n",
       "12  16872  http://world-en.openfoodfacts.org/product/0000...  usda-ndb-import   \n",
       "\n",
       "     created_t      created_datetime last_modified_t last_modified_datetime  \\\n",
       "1   1489069957  2017-03-09T14:32:37Z      1489069957   2017-03-09T14:32:37Z   \n",
       "2   1489069957  2017-03-09T14:32:37Z      1489069957   2017-03-09T14:32:37Z   \n",
       "3   1489055731  2017-03-09T10:35:31Z      1489055731   2017-03-09T10:35:31Z   \n",
       "7   1489055711  2017-03-09T10:35:11Z      1489055712   2017-03-09T10:35:12Z   \n",
       "12  1489055650  2017-03-09T10:34:10Z      1489055651   2017-03-09T10:34:11Z   \n",
       "\n",
       "                      product_name generic_name quantity  ...  \\\n",
       "1   Banana Chips Sweetened (Whole)            0        0  ...   \n",
       "2                          Peanuts            0        0  ...   \n",
       "3           Organic Salted Nut Mix            0        0  ...   \n",
       "7                   Organic Muesli            0        0  ...   \n",
       "12                   Zen Party Mix            0        0  ...   \n",
       "\n",
       "   fruits-vegetables-nuts_100g fruits-vegetables-nuts-estimate_100g  \\\n",
       "1                          0.0                                  0.0   \n",
       "2                          0.0                                  0.0   \n",
       "3                          0.0                                  0.0   \n",
       "7                          0.0                                  0.0   \n",
       "12                         0.0                                  0.0   \n",
       "\n",
       "   collagen-meat-protein-ratio_100g cocoa_100g chlorophyl_100g  \\\n",
       "1                               0.0        0.0             0.0   \n",
       "2                               0.0        0.0             0.0   \n",
       "3                               0.0        0.0             0.0   \n",
       "7                               0.0        0.0             0.0   \n",
       "12                              0.0        0.0             0.0   \n",
       "\n",
       "   carbon-footprint_100g nutrition-score-fr_100g nutrition-score-uk_100g  \\\n",
       "1                    0.0                    14.0                    14.0   \n",
       "2                    0.0                     0.0                     0.0   \n",
       "3                    0.0                    12.0                    12.0   \n",
       "7                    0.0                     7.0                     7.0   \n",
       "12                   0.0                    12.0                    12.0   \n",
       "\n",
       "   glycemic-index_100g water-hardness_100g  \n",
       "1                  0.0                 0.0  \n",
       "2                  0.0                 0.0  \n",
       "3                  0.0                 0.0  \n",
       "7                  0.0                 0.0  \n",
       "12                 0.0                 0.0  \n",
       "\n",
       "[5 rows x 163 columns]"
      ]
     },
     "execution_count": 14,
     "metadata": {},
     "output_type": "execute_result"
    }
   ],
   "source": [
    "original= original[(original['sugars_100g'] >= 0) & (original['sugars_100g'] <=100)]\n",
    "original= original[(original['fat_100g'] >= 0) & (original['fat_100g'] <=100)]\n",
    "original= original[(original['carbohydrates_100g'] >= 0) & (original['carbohydrates_100g'] <=100)]\n",
    "original= original[(original['salt_100g'] >= 0) & (original['salt_100g'] <=100)]\n",
    "original= original[(original['proteins_100g'] >= 0) & (original['proteins_100g'] <=100)]\n",
    "original= original[(original['nutrition-score-fr_100g'] >= 0) & (original['nutrition-score-fr_100g'] <=100)]\n",
    "original= original[(original['nutrition-score-uk_100g'] >= 0) & (original['nutrition-score-uk_100g'] <=100)]\n",
    "original.head()"
   ]
  },
  {
   "cell_type": "code",
   "execution_count": 15,
   "metadata": {
    "execution": {
     "iopub.execute_input": "2021-01-08T23:47:43.896428Z",
     "iopub.status.busy": "2021-01-08T23:47:43.895673Z",
     "iopub.status.idle": "2021-01-08T23:47:43.900382Z",
     "shell.execute_reply": "2021-01-08T23:47:43.900877Z"
    },
    "papermill": {
     "duration": 0.051046,
     "end_time": "2021-01-08T23:47:43.901060",
     "exception": false,
     "start_time": "2021-01-08T23:47:43.850014",
     "status": "completed"
    },
    "tags": []
   },
   "outputs": [],
   "source": [
    "original_cols = [\"sugars_100g\",\n",
    "                       \"salt_100g\",\n",
    "                       \"fat_100g\",\n",
    "                       \"proteins_100g\",\n",
    "                       \"carbohydrates_100g\",\n",
    "                       \"energy_100g\",\n",
    "                   \"nutrition_grade_fr\",\"g_sum\", \"other_carbs\"]"
   ]
  },
  {
   "cell_type": "code",
   "execution_count": 16,
   "metadata": {
    "execution": {
     "iopub.execute_input": "2021-01-08T23:47:43.995026Z",
     "iopub.status.busy": "2021-01-08T23:47:43.993979Z",
     "iopub.status.idle": "2021-01-08T23:47:44.008705Z",
     "shell.execute_reply": "2021-01-08T23:47:44.009276Z"
    },
    "papermill": {
     "duration": 0.065686,
     "end_time": "2021-01-08T23:47:44.009438",
     "exception": false,
     "start_time": "2021-01-08T23:47:43.943752",
     "status": "completed"
    },
    "tags": []
   },
   "outputs": [],
   "source": [
    "original[\"g_sum\"] = original.fat_100g + original.salt_100g + original.proteins_100g + original.carbohydrates_100g\n",
    "original[\"g_sum\"] = round(original.g_sum)\n",
    "original[\"other_carbs\"] = original.carbohydrates_100g - original.sugars_100g\n",
    "original[\"reconstructed_energy\"] = original.fat_100g * 37 + (original.proteins_100g + original.carbohydrates_100g) * 17"
   ]
  },
  {
   "cell_type": "code",
   "execution_count": 17,
   "metadata": {
    "execution": {
     "iopub.execute_input": "2021-01-08T23:47:44.098119Z",
     "iopub.status.busy": "2021-01-08T23:47:44.097226Z",
     "iopub.status.idle": "2021-01-08T23:47:44.262585Z",
     "shell.execute_reply": "2021-01-08T23:47:44.263232Z"
    },
    "papermill": {
     "duration": 0.212334,
     "end_time": "2021-01-08T23:47:44.263373",
     "exception": false,
     "start_time": "2021-01-08T23:47:44.051039",
     "status": "completed"
    },
    "tags": []
   },
   "outputs": [
    {
     "name": "stdout",
     "output_type": "stream",
     "text": [
      "percentage of incomplete tables:100.0\n"
     ]
    }
   ],
   "source": [
    "original = original[original_cols].copy()\n",
    "\n",
    "original[\"isempty\"] = np.where(original.isnull().sum(axis = 1) >= 1, 1, 0)\n",
    "percentage = (original.isempty.value_counts()[0] / original.shape[0]) * 100\n",
    "print(\"percentage of incomplete tables:\" + str(percentage))\n",
    "\n",
    "original = original[original.isempty == 0].copy()\n",
    "original.isnull().sum()\n",
    "\n",
    "original.drop(\"isempty\", inplace = True, axis = 1)\n",
    "original.dropna(axis = 0, how = \"any\", inplace = True)"
   ]
  },
  {
   "cell_type": "code",
   "execution_count": 18,
   "metadata": {
    "execution": {
     "iopub.execute_input": "2021-01-08T23:47:44.355742Z",
     "iopub.status.busy": "2021-01-08T23:47:44.355060Z",
     "iopub.status.idle": "2021-01-08T23:47:44.413350Z",
     "shell.execute_reply": "2021-01-08T23:47:44.412230Z"
    },
    "papermill": {
     "duration": 0.107408,
     "end_time": "2021-01-08T23:47:44.413490",
     "exception": false,
     "start_time": "2021-01-08T23:47:44.306082",
     "status": "completed"
    },
    "tags": []
   },
   "outputs": [],
   "source": [
    "meta = pd.DataFrame(index = original.index)\n",
    "for col in original.columns:\n",
    "    meta[\"zero_\"+ col] = np.where(original[col]== 0, 1, 0)\n",
    "meta[\"contains_zero\"] = np.where(meta.sum(axis=1) > 0, 1, 0)"
   ]
  },
  {
   "cell_type": "code",
   "execution_count": 19,
   "metadata": {
    "execution": {
     "iopub.execute_input": "2021-01-08T23:47:44.547066Z",
     "iopub.status.busy": "2021-01-08T23:47:44.546392Z",
     "iopub.status.idle": "2021-01-08T23:47:44.673339Z",
     "shell.execute_reply": "2021-01-08T23:47:44.672697Z"
    },
    "papermill": {
     "duration": 0.197755,
     "end_time": "2021-01-08T23:47:44.673484",
     "exception": false,
     "start_time": "2021-01-08T23:47:44.475729",
     "status": "completed"
    },
    "tags": []
   },
   "outputs": [],
   "source": [
    "for col in [\"sugars_100g\",\n",
    "                       \"salt_100g\",\n",
    "                       \"fat_100g\",\n",
    "                       \"proteins_100g\",\n",
    "                       \"carbohydrates_100g\",\n",
    "                       \"energy_100g\"]:\n",
    "    if col not in [\"energy_100g\", \"reconstructed_energy\"]:\n",
    "        original = original.loc[original[col] <= 100]\n",
    "    original = original.loc[original[col]>= 0]\n",
    "    \n",
    "original = original.loc[original.energy_100g <= 3700]\n",
    "original = original.loc[original.carbohydrates_100g >= original.sugars_100g]\n",
    "original = original.loc[original.g_sum <= 100]"
   ]
  },
  {
   "cell_type": "code",
   "execution_count": 20,
   "metadata": {
    "execution": {
     "iopub.execute_input": "2021-01-08T23:47:44.768552Z",
     "iopub.status.busy": "2021-01-08T23:47:44.767527Z",
     "iopub.status.idle": "2021-01-08T23:47:44.786832Z",
     "shell.execute_reply": "2021-01-08T23:47:44.786021Z"
    },
    "papermill": {
     "duration": 0.069881,
     "end_time": "2021-01-08T23:47:44.787001",
     "exception": false,
     "start_time": "2021-01-08T23:47:44.717120",
     "status": "completed"
    },
    "tags": []
   },
   "outputs": [],
   "source": [
    "percent_of_nans = original.isnull().sum().sort_values(ascending=False) / original.shape[0] * 100"
   ]
  },
  {
   "cell_type": "code",
   "execution_count": 21,
   "metadata": {
    "execution": {
     "iopub.execute_input": "2021-01-08T23:47:44.925109Z",
     "iopub.status.busy": "2021-01-08T23:47:44.924232Z",
     "iopub.status.idle": "2021-01-08T23:47:44.926665Z",
     "shell.execute_reply": "2021-01-08T23:47:44.927379Z"
    },
    "papermill": {
     "duration": 0.076872,
     "end_time": "2021-01-08T23:47:44.927556",
     "exception": false,
     "start_time": "2021-01-08T23:47:44.850684",
     "status": "completed"
    },
    "tags": []
   },
   "outputs": [],
   "source": [
    "low_nans = percent_of_nans[percent_of_nans <= 15]\n",
    "middle_nans = percent_of_nans[(percent_of_nans > 15) & (percent_of_nans <= 50)]\n",
    "high_nans = percent_of_nans[(percent_of_nans > 50) & (percent_of_nans < 100)]"
   ]
  },
  {
   "cell_type": "code",
   "execution_count": 22,
   "metadata": {
    "execution": {
     "iopub.execute_input": "2021-01-08T23:47:45.060881Z",
     "iopub.status.busy": "2021-01-08T23:47:45.060004Z",
     "iopub.status.idle": "2021-01-08T23:47:45.064092Z",
     "shell.execute_reply": "2021-01-08T23:47:45.063477Z"
    },
    "papermill": {
     "duration": 0.072395,
     "end_time": "2021-01-08T23:47:45.064200",
     "exception": false,
     "start_time": "2021-01-08T23:47:44.991805",
     "status": "completed"
    },
    "tags": []
   },
   "outputs": [],
   "source": [
    "def rotate_labels(axes):\n",
    "    for item in axes.get_xticklabels():\n",
    "        item.set_rotation(45)"
   ]
  },
  {
   "cell_type": "code",
   "execution_count": 23,
   "metadata": {
    "execution": {
     "iopub.execute_input": "2021-01-08T23:47:45.156830Z",
     "iopub.status.busy": "2021-01-08T23:47:45.155877Z",
     "iopub.status.idle": "2021-01-08T23:47:45.682950Z",
     "shell.execute_reply": "2021-01-08T23:47:45.681683Z"
    },
    "papermill": {
     "duration": 0.576478,
     "end_time": "2021-01-08T23:47:45.683091",
     "exception": false,
     "start_time": "2021-01-08T23:47:45.106613",
     "status": "completed"
    },
    "tags": []
   },
   "outputs": [
    {
     "data": {
      "text/plain": [
       "Text(0, 0.5, '% of nans ')"
      ]
     },
     "execution_count": 23,
     "metadata": {},
     "output_type": "execute_result"
    },
    {
     "data": {
      "image/png": "[encoded data removed]",
      "text/plain": [
       "<Figure size 1440x360 with 1 Axes>"
      ]
     },
     "metadata": {},
     "output_type": "display_data"
    }
   ],
   "source": [
    "plt.figure(figsize=(20,5))\n",
    "lows = sns.barplot(x=low_nans.index.values, y=low_nans.values, palette=\"Greens\")\n",
    "rotate_labels(lows)\n",
    "plt.title(\"Features with fewest nan-values\")\n",
    "plt.ylabel(\"% of nans \")"
   ]
  },
  {
   "cell_type": "code",
   "execution_count": 24,
   "metadata": {
    "execution": {
     "iopub.execute_input": "2021-01-08T23:47:45.830979Z",
     "iopub.status.busy": "2021-01-08T23:47:45.830229Z",
     "iopub.status.idle": "2021-01-08T23:47:45.833767Z",
     "shell.execute_reply": "2021-01-08T23:47:45.834298Z"
    },
    "papermill": {
     "duration": 0.083702,
     "end_time": "2021-01-08T23:47:45.834457",
     "exception": false,
     "start_time": "2021-01-08T23:47:45.750755",
     "status": "completed"
    },
    "tags": []
   },
   "outputs": [],
   "source": [
    "X= original[['sugars_100g', 'salt_100g','fat_100g','proteins_100g','carbohydrates_100g', 'energy_100g']]\n",
    "y=original[['nutrition_grade_fr']]"
   ]
  },
  {
   "cell_type": "code",
   "execution_count": 25,
   "metadata": {
    "execution": {
     "iopub.execute_input": "2021-01-08T23:47:45.933420Z",
     "iopub.status.busy": "2021-01-08T23:47:45.932762Z",
     "iopub.status.idle": "2021-01-08T23:47:45.941701Z",
     "shell.execute_reply": "2021-01-08T23:47:45.942234Z"
    },
    "papermill": {
     "duration": 0.062842,
     "end_time": "2021-01-08T23:47:45.942402",
     "exception": false,
     "start_time": "2021-01-08T23:47:45.879560",
     "status": "completed"
    },
    "tags": []
   },
   "outputs": [
    {
     "data": {
      "text/plain": [
       "array([[1.42900e+01, 0.00000e+00, 2.85700e+01, 3.57000e+00, 6.42900e+01,\n",
       "        2.24300e+03],\n",
       "       [1.78600e+01, 6.35000e-01, 1.78600e+01, 1.78600e+01, 6.07100e+01,\n",
       "        1.94100e+03],\n",
       "       [3.57000e+00, 1.22428e+00, 5.71400e+01, 1.78600e+01, 1.78600e+01,\n",
       "        2.54000e+03],\n",
       "       [1.56200e+01, 1.39700e-01, 1.87500e+01, 1.40600e+01, 5.78100e+01,\n",
       "        1.83300e+03],\n",
       "       [3.33000e+00, 1.60782e+00, 3.66700e+01, 1.66700e+01, 3.66700e+01,\n",
       "        2.23000e+03]])"
      ]
     },
     "execution_count": 25,
     "metadata": {},
     "output_type": "execute_result"
    }
   ],
   "source": [
    "X = np.asarray(original[['sugars_100g', 'salt_100g','fat_100g','proteins_100g','carbohydrates_100g', 'energy_100g']])\n",
    "X[0:5]"
   ]
  },
  {
   "cell_type": "code",
   "execution_count": 26,
   "metadata": {
    "execution": {
     "iopub.execute_input": "2021-01-08T23:47:46.047695Z",
     "iopub.status.busy": "2021-01-08T23:47:46.047040Z",
     "iopub.status.idle": "2021-01-08T23:47:46.057261Z",
     "shell.execute_reply": "2021-01-08T23:47:46.056459Z"
    },
    "papermill": {
     "duration": 0.070054,
     "end_time": "2021-01-08T23:47:46.057380",
     "exception": false,
     "start_time": "2021-01-08T23:47:45.987326",
     "status": "completed"
    },
    "tags": []
   },
   "outputs": [
    {
     "data": {
      "text/html": [
       "<div>\n",
       "<style scoped>\n",
       "    .dataframe tbody tr th:only-of-type {\n",
       "        vertical-align: middle;\n",
       "    }\n",
       "\n",
       "    .dataframe tbody tr th {\n",
       "        vertical-align: top;\n",
       "    }\n",
       "\n",
       "    .dataframe thead th {\n",
       "        text-align: right;\n",
       "    }\n",
       "</style>\n",
       "<table border=\"1\" class=\"dataframe\">\n",
       "  <thead>\n",
       "    <tr style=\"text-align: right;\">\n",
       "      <th></th>\n",
       "      <th>nutrition_grade_fr</th>\n",
       "    </tr>\n",
       "  </thead>\n",
       "  <tbody>\n",
       "    <tr>\n",
       "      <th>1</th>\n",
       "      <td>d</td>\n",
       "    </tr>\n",
       "    <tr>\n",
       "      <th>2</th>\n",
       "      <td>b</td>\n",
       "    </tr>\n",
       "    <tr>\n",
       "      <th>3</th>\n",
       "      <td>d</td>\n",
       "    </tr>\n",
       "    <tr>\n",
       "      <th>7</th>\n",
       "      <td>c</td>\n",
       "    </tr>\n",
       "    <tr>\n",
       "      <th>12</th>\n",
       "      <td>d</td>\n",
       "    </tr>\n",
       "  </tbody>\n",
       "</table>\n",
       "</div>"
      ],
      "text/plain": [
       "   nutrition_grade_fr\n",
       "1                   d\n",
       "2                   b\n",
       "3                   d\n",
       "7                   c\n",
       "12                  d"
      ]
     },
     "execution_count": 26,
     "metadata": {},
     "output_type": "execute_result"
    }
   ],
   "source": [
    "y =original[['nutrition_grade_fr']]\n",
    "y[0:5]"
   ]
  },
  {
   "cell_type": "code",
   "execution_count": 27,
   "metadata": {
    "execution": {
     "iopub.execute_input": "2021-01-08T23:47:46.164554Z",
     "iopub.status.busy": "2021-01-08T23:47:46.159028Z",
     "iopub.status.idle": "2021-01-08T23:47:46.200723Z",
     "shell.execute_reply": "2021-01-08T23:47:46.199618Z"
    },
    "papermill": {
     "duration": 0.098286,
     "end_time": "2021-01-08T23:47:46.200967",
     "exception": false,
     "start_time": "2021-01-08T23:47:46.102681",
     "status": "completed"
    },
    "tags": []
   },
   "outputs": [
    {
     "name": "stderr",
     "output_type": "stream",
     "text": [
      "/opt/conda/lib/python3.7/site-packages/sklearn/utils/validation.py:72: DataConversionWarning:\n",
      "\n",
      "A column-vector y was passed when a 1d array was expected. Please change the shape of y to (n_samples, ), for example using ravel().\n",
      "\n"
     ]
    }
   ],
   "source": [
    "from sklearn import preprocessing\n",
    "le = preprocessing.LabelEncoder()\n",
    "y =  le.fit_transform(y)\n"
   ]
  },
  {
   "cell_type": "code",
   "execution_count": 28,
   "metadata": {
    "execution": {
     "iopub.execute_input": "2021-01-08T23:47:46.301933Z",
     "iopub.status.busy": "2021-01-08T23:47:46.301080Z",
     "iopub.status.idle": "2021-01-08T23:47:46.329587Z",
     "shell.execute_reply": "2021-01-08T23:47:46.328060Z"
    },
    "papermill": {
     "duration": 0.081707,
     "end_time": "2021-01-08T23:47:46.329755",
     "exception": false,
     "start_time": "2021-01-08T23:47:46.248048",
     "status": "completed"
    },
    "tags": []
   },
   "outputs": [
    {
     "data": {
      "text/plain": [
       "array([[-0.12211484, -0.32749129,  0.82143575, -0.49776912,  1.11290838,\n",
       "         1.32516114],\n",
       "       [ 0.05066842, -0.17599514,  0.16968906,  1.23076079,  0.985991  ,\n",
       "         0.92355616],\n",
       "       [-0.64094858, -0.0354067 ,  2.56003547,  1.23076079, -0.53311783,\n",
       "         1.72011704],\n",
       "       [-0.0577446 , -0.29416214,  0.22384915,  0.77110973,  0.88318084,\n",
       "         0.77993583],\n",
       "       [-0.65256426,  0.05609697,  1.31435342,  1.08681743,  0.13373018,\n",
       "         1.30787351]])"
      ]
     },
     "execution_count": 28,
     "metadata": {},
     "output_type": "execute_result"
    }
   ],
   "source": [
    "from sklearn import preprocessing\n",
    "X = preprocessing.StandardScaler().fit(X).transform(X)\n",
    "X[0:5]"
   ]
  },
  {
   "cell_type": "code",
   "execution_count": 29,
   "metadata": {
    "execution": {
     "iopub.execute_input": "2021-01-08T23:47:46.476001Z",
     "iopub.status.busy": "2021-01-08T23:47:46.475362Z",
     "iopub.status.idle": "2021-01-08T23:47:46.628027Z",
     "shell.execute_reply": "2021-01-08T23:47:46.628511Z"
    },
    "papermill": {
     "duration": 0.228554,
     "end_time": "2021-01-08T23:47:46.628660",
     "exception": false,
     "start_time": "2021-01-08T23:47:46.400106",
     "status": "completed"
    },
    "tags": []
   },
   "outputs": [
    {
     "name": "stdout",
     "output_type": "stream",
     "text": [
      "Train set: (156808, 6) (156808,)\n",
      "Test set: (39202, 6) (39202,)\n"
     ]
    }
   ],
   "source": [
    "from sklearn.model_selection import train_test_split\n",
    "X_train, X_test, y_train, y_test = train_test_split(X, y, test_size=0.2, random_state=4)\n",
    "print('Train set:', X_train.shape, y_train.shape)\n",
    "print('Test set:', X_test.shape, y_test.shape)"
   ]
  },
  {
   "cell_type": "code",
   "execution_count": 30,
   "metadata": {
    "execution": {
     "iopub.execute_input": "2021-01-08T23:47:46.730797Z",
     "iopub.status.busy": "2021-01-08T23:47:46.730013Z",
     "iopub.status.idle": "2021-01-08T23:47:50.633048Z",
     "shell.execute_reply": "2021-01-08T23:47:50.631650Z"
    },
    "papermill": {
     "duration": 3.957725,
     "end_time": "2021-01-08T23:47:50.633191",
     "exception": false,
     "start_time": "2021-01-08T23:47:46.675466",
     "status": "completed"
    },
    "tags": []
   },
   "outputs": [
    {
     "data": {
      "text/plain": [
       "LogisticRegression(C=0.01, solver='liblinear')"
      ]
     },
     "execution_count": 30,
     "metadata": {},
     "output_type": "execute_result"
    }
   ],
   "source": [
    "from sklearn.linear_model import LogisticRegression\n",
    "from sklearn.metrics import confusion_matrix\n",
    "LR = LogisticRegression(C=0.01, solver='liblinear').fit(X_train,y_train)\n",
    "LR"
   ]
  },
  {
   "cell_type": "markdown",
   "metadata": {
    "papermill": {
     "duration": 0.0713,
     "end_time": "2021-01-08T23:47:50.776166",
     "exception": false,
     "start_time": "2021-01-08T23:47:50.704866",
     "status": "completed"
    },
    "tags": []
   },
   "source": [
    "# ****Train set/ Test set****"
   ]
  },
  {
   "cell_type": "code",
   "execution_count": 31,
   "metadata": {
    "execution": {
     "iopub.execute_input": "2021-01-08T23:47:50.924453Z",
     "iopub.status.busy": "2021-01-08T23:47:50.923572Z",
     "iopub.status.idle": "2021-01-08T23:47:50.935038Z",
     "shell.execute_reply": "2021-01-08T23:47:50.934227Z"
    },
    "papermill": {
     "duration": 0.088042,
     "end_time": "2021-01-08T23:47:50.935207",
     "exception": false,
     "start_time": "2021-01-08T23:47:50.847165",
     "status": "completed"
    },
    "tags": []
   },
   "outputs": [
    {
     "data": {
      "text/plain": [
       "array([4, 3, 3, ..., 3, 4, 3])"
      ]
     },
     "execution_count": 31,
     "metadata": {},
     "output_type": "execute_result"
    }
   ],
   "source": [
    "yhat = LR.predict(X_test)\n",
    "yhat"
   ]
  },
  {
   "cell_type": "code",
   "execution_count": 32,
   "metadata": {
    "execution": {
     "iopub.execute_input": "2021-01-08T23:47:51.044137Z",
     "iopub.status.busy": "2021-01-08T23:47:51.043323Z",
     "iopub.status.idle": "2021-01-08T23:47:51.066099Z",
     "shell.execute_reply": "2021-01-08T23:47:51.066623Z"
    },
    "papermill": {
     "duration": 0.079168,
     "end_time": "2021-01-08T23:47:51.066765",
     "exception": false,
     "start_time": "2021-01-08T23:47:50.987597",
     "status": "completed"
    },
    "tags": []
   },
   "outputs": [
    {
     "data": {
      "text/plain": [
       "0.3714309946934383"
      ]
     },
     "execution_count": 32,
     "metadata": {},
     "output_type": "execute_result"
    }
   ],
   "source": [
    "from sklearn.metrics import jaccard_score\n",
    "jaccard_score(y_test, yhat, average='weighted')"
   ]
  },
  {
   "cell_type": "code",
   "execution_count": 33,
   "metadata": {
    "execution": {
     "iopub.execute_input": "2021-01-08T23:47:51.168826Z",
     "iopub.status.busy": "2021-01-08T23:47:51.167962Z",
     "iopub.status.idle": "2021-01-08T23:47:51.192721Z",
     "shell.execute_reply": "2021-01-08T23:47:51.193851Z"
    },
    "papermill": {
     "duration": 0.078885,
     "end_time": "2021-01-08T23:47:51.194128",
     "exception": false,
     "start_time": "2021-01-08T23:47:51.115243",
     "status": "completed"
    },
    "tags": []
   },
   "outputs": [
    {
     "data": {
      "text/plain": [
       "0.3785561064809931"
      ]
     },
     "execution_count": 33,
     "metadata": {},
     "output_type": "execute_result"
    }
   ],
   "source": [
    "jaccard_score(y_test, yhat, average='micro')"
   ]
  },
  {
   "cell_type": "code",
   "execution_count": 34,
   "metadata": {
    "execution": {
     "iopub.execute_input": "2021-01-08T23:47:51.300518Z",
     "iopub.status.busy": "2021-01-08T23:47:51.299831Z",
     "iopub.status.idle": "2021-01-08T23:47:51.382409Z",
     "shell.execute_reply": "2021-01-08T23:47:51.383136Z"
    },
    "papermill": {
     "duration": 0.138897,
     "end_time": "2021-01-08T23:47:51.383331",
     "exception": false,
     "start_time": "2021-01-08T23:47:51.244434",
     "status": "completed"
    },
    "tags": []
   },
   "outputs": [
    {
     "name": "stdout",
     "output_type": "stream",
     "text": [
      "              precision    recall  f1-score   support\n",
      "\n",
      "           0       0.00      0.00      0.00        25\n",
      "           1       0.61      0.82      0.70      7317\n",
      "           2       0.53      0.32      0.40      9503\n",
      "           3       0.52      0.65      0.58     13314\n",
      "           4       0.55      0.42      0.47      9043\n",
      "\n",
      "    accuracy                           0.55     39202\n",
      "   macro avg       0.44      0.44      0.43     39202\n",
      "weighted avg       0.55      0.55      0.53     39202\n",
      "\n"
     ]
    },
    {
     "name": "stderr",
     "output_type": "stream",
     "text": [
      "/opt/conda/lib/python3.7/site-packages/sklearn/metrics/_classification.py:1221: UndefinedMetricWarning:\n",
      "\n",
      "Precision and F-score are ill-defined and being set to 0.0 in labels with no predicted samples. Use `zero_division` parameter to control this behavior.\n",
      "\n"
     ]
    }
   ],
   "source": [
    "from sklearn.metrics import classification_report, confusion_matrix\n",
    "import itertools\n",
    "print(classification_report(y_test, yhat))"
   ]
  },
  {
   "cell_type": "markdown",
   "metadata": {
    "papermill": {
     "duration": 0.056711,
     "end_time": "2021-01-08T23:47:51.501233",
     "exception": false,
     "start_time": "2021-01-08T23:47:51.444522",
     "status": "completed"
    },
    "tags": []
   },
   "source": [
    "# **Modeling SVM with sklearn**"
   ]
  },
  {
   "cell_type": "code",
   "execution_count": 35,
   "metadata": {
    "execution": {
     "iopub.execute_input": "2021-01-08T23:47:51.611844Z",
     "iopub.status.busy": "2021-01-08T23:47:51.611077Z",
     "iopub.status.idle": "2021-01-09T00:02:36.790462Z",
     "shell.execute_reply": "2021-01-09T00:02:36.791028Z"
    },
    "papermill": {
     "duration": 885.23759,
     "end_time": "2021-01-09T00:02:36.791177",
     "exception": false,
     "start_time": "2021-01-08T23:47:51.553587",
     "status": "completed"
    },
    "tags": []
   },
   "outputs": [
    {
     "data": {
      "text/plain": [
       "SVC()"
      ]
     },
     "execution_count": 35,
     "metadata": {},
     "output_type": "execute_result"
    }
   ],
   "source": [
    "from sklearn import svm\n",
    "from sklearn.svm import SVC\n",
    "clf = svm.SVC(kernel='rbf')\n",
    "clf.fit(X_train, y_train)"
   ]
  },
  {
   "cell_type": "code",
   "execution_count": 36,
   "metadata": {
    "execution": {
     "iopub.execute_input": "2021-01-09T00:02:36.898618Z",
     "iopub.status.busy": "2021-01-09T00:02:36.897994Z",
     "iopub.status.idle": "2021-01-09T00:05:02.774796Z",
     "shell.execute_reply": "2021-01-09T00:05:02.775350Z"
    },
    "papermill": {
     "duration": 145.933625,
     "end_time": "2021-01-09T00:05:02.775489",
     "exception": false,
     "start_time": "2021-01-09T00:02:36.841864",
     "status": "completed"
    },
    "tags": []
   },
   "outputs": [
    {
     "data": {
      "text/plain": [
       "array([4, 4, 2, 1, 1])"
      ]
     },
     "execution_count": 36,
     "metadata": {},
     "output_type": "execute_result"
    }
   ],
   "source": [
    "yhat = clf.predict(X_test)\n",
    "yhat[0:5]"
   ]
  },
  {
   "cell_type": "code",
   "execution_count": 37,
   "metadata": {
    "execution": {
     "iopub.execute_input": "2021-01-09T00:05:02.888386Z",
     "iopub.status.busy": "2021-01-09T00:05:02.887718Z",
     "iopub.status.idle": "2021-01-09T00:05:03.014500Z",
     "shell.execute_reply": "2021-01-09T00:05:03.013632Z"
    },
    "papermill": {
     "duration": 0.18626,
     "end_time": "2021-01-09T00:05:03.014658",
     "exception": false,
     "start_time": "2021-01-09T00:05:02.828398",
     "status": "completed"
    },
    "tags": []
   },
   "outputs": [
    {
     "name": "stdout",
     "output_type": "stream",
     "text": [
      "              precision    recall  f1-score   support\n",
      "\n",
      "           0       0.00      0.00      0.00        25\n",
      "           1       0.73      0.78      0.75      7317\n",
      "           2       0.67      0.61      0.64      9503\n",
      "           3       0.71      0.77      0.74     13314\n",
      "           4       0.82      0.73      0.77      9043\n",
      "\n",
      "    accuracy                           0.73     39202\n",
      "   macro avg       0.58      0.58      0.58     39202\n",
      "weighted avg       0.73      0.73      0.73     39202\n",
      "\n"
     ]
    },
    {
     "name": "stderr",
     "output_type": "stream",
     "text": [
      "/opt/conda/lib/python3.7/site-packages/sklearn/metrics/_classification.py:1221: UndefinedMetricWarning:\n",
      "\n",
      "Precision and F-score are ill-defined and being set to 0.0 in labels with no predicted samples. Use `zero_division` parameter to control this behavior.\n",
      "\n"
     ]
    }
   ],
   "source": [
    "from sklearn.metrics import classification_report, confusion_matrix\n",
    "import itertools\n",
    "cnf_matrix = confusion_matrix(y_test, yhat, labels=[2, 4])\n",
    "np.set_printoptions(precision=2)\n",
    "print(classification_report(y_test, yhat))"
   ]
  },
  {
   "cell_type": "code",
   "execution_count": 38,
   "metadata": {
    "execution": {
     "iopub.execute_input": "2021-01-09T00:05:03.131045Z",
     "iopub.status.busy": "2021-01-09T00:05:03.130178Z",
     "iopub.status.idle": "2021-01-09T00:05:03.157723Z",
     "shell.execute_reply": "2021-01-09T00:05:03.158670Z"
    },
    "papermill": {
     "duration": 0.087478,
     "end_time": "2021-01-09T00:05:03.158858",
     "exception": false,
     "start_time": "2021-01-09T00:05:03.071380",
     "status": "completed"
    },
    "tags": []
   },
   "outputs": [
    {
     "data": {
      "text/plain": [
       "0.7251848334377399"
      ]
     },
     "execution_count": 38,
     "metadata": {},
     "output_type": "execute_result"
    }
   ],
   "source": [
    "from sklearn.metrics import f1_score\n",
    "f1_score(y_test, yhat, average='weighted')"
   ]
  },
  {
   "cell_type": "code",
   "execution_count": 39,
   "metadata": {
    "execution": {
     "iopub.execute_input": "2021-01-09T00:05:03.301074Z",
     "iopub.status.busy": "2021-01-09T00:05:03.300244Z",
     "iopub.status.idle": "2021-01-09T00:05:03.326210Z",
     "shell.execute_reply": "2021-01-09T00:05:03.325553Z"
    },
    "papermill": {
     "duration": 0.098755,
     "end_time": "2021-01-09T00:05:03.326318",
     "exception": false,
     "start_time": "2021-01-09T00:05:03.227563",
     "status": "completed"
    },
    "tags": []
   },
   "outputs": [
    {
     "data": {
      "text/plain": [
       "0.5714292891317517"
      ]
     },
     "execution_count": 39,
     "metadata": {},
     "output_type": "execute_result"
    }
   ],
   "source": [
    "from sklearn.metrics import jaccard_score\n",
    "jaccard_score(y_test, yhat, average='weighted')"
   ]
  },
  {
   "cell_type": "code",
   "execution_count": 40,
   "metadata": {
    "execution": {
     "iopub.execute_input": "2021-01-09T00:05:03.443213Z",
     "iopub.status.busy": "2021-01-09T00:05:03.442282Z",
     "iopub.status.idle": "2021-01-09T00:27:49.824185Z",
     "shell.execute_reply": "2021-01-09T00:27:49.825230Z"
    },
    "papermill": {
     "duration": 1366.444934,
     "end_time": "2021-01-09T00:27:49.825419",
     "exception": false,
     "start_time": "2021-01-09T00:05:03.380485",
     "status": "completed"
    },
    "tags": []
   },
   "outputs": [
    {
     "name": "stdout",
     "output_type": "stream",
     "text": [
      "Avg F1-score: 0.5680\n",
      "Jaccard score: 0.4008\n"
     ]
    }
   ],
   "source": [
    "clf1 = svm.SVC(kernel='linear')\n",
    "clf1.fit(X_train, y_train)\n",
    "yhat2 = clf1.predict(X_test)\n",
    "yhat2[0:5]\n",
    "print(\"Avg F1-score: %.4f\" % f1_score(y_test, yhat2, average='weighted'))\n",
    "print(\"Jaccard score: %.4f\" % jaccard_score(y_test, yhat2, average='weighted'))"
   ]
  },
  {
   "cell_type": "markdown",
   "metadata": {
    "papermill": {
     "duration": 0.070105,
     "end_time": "2021-01-09T00:27:49.976147",
     "exception": false,
     "start_time": "2021-01-09T00:27:49.906042",
     "status": "completed"
    },
    "tags": []
   },
   "source": []
  },
  {
   "cell_type": "code",
   "execution_count": 41,
   "metadata": {
    "execution": {
     "iopub.execute_input": "2021-01-09T00:27:50.235686Z",
     "iopub.status.busy": "2021-01-09T00:27:50.232731Z",
     "iopub.status.idle": "2021-01-09T00:27:50.447843Z",
     "shell.execute_reply": "2021-01-09T00:27:50.446941Z"
    },
    "papermill": {
     "duration": 0.300274,
     "end_time": "2021-01-09T00:27:50.448009",
     "exception": false,
     "start_time": "2021-01-09T00:27:50.147735",
     "status": "completed"
    },
    "tags": []
   },
   "outputs": [
    {
     "data": {
      "text/plain": [
       "array([[-0.79, -0.21, -0.53, -0.06, -0.56, -0.79],\n",
       "       [ 0.4 , -0.1 ,  0.28, -0.5 ,  0.67,  0.53],\n",
       "       [-0.81,  0.03,  0.54,  1.37, -1.16, -0.05],\n",
       "       ...,\n",
       "       [ 1.47,  0.1 , -0.89, -0.88,  0.54, -0.72],\n",
       "       [-0.21, -0.3 , -0.81, -0.58, -0.72, -1.22],\n",
       "       [-0.81, -0.11,  0.79,  2.34, -1.16,  0.33]])"
      ]
     },
     "execution_count": 41,
     "metadata": {},
     "output_type": "execute_result"
    }
   ],
   "source": [
    "from sklearn.neighbors import KNeighborsClassifier\n",
    "from sklearn.model_selection import train_test_split\n",
    "from sklearn import metrics\n",
    "\n",
    "X_train, X_test, y_train, y_test = train_test_split(X, y, test_size=0.2, random_state=4)\n",
    "\n",
    "X_train"
   ]
  },
  {
   "cell_type": "code",
   "execution_count": 42,
   "metadata": {
    "execution": {
     "iopub.execute_input": "2021-01-09T00:27:50.621540Z",
     "iopub.status.busy": "2021-01-09T00:27:50.620400Z",
     "iopub.status.idle": "2021-01-09T00:27:50.625853Z",
     "shell.execute_reply": "2021-01-09T00:27:50.626731Z"
    },
    "papermill": {
     "duration": 0.095308,
     "end_time": "2021-01-09T00:27:50.626944",
     "exception": false,
     "start_time": "2021-01-09T00:27:50.531636",
     "status": "completed"
    },
    "tags": []
   },
   "outputs": [
    {
     "data": {
      "text/plain": [
       "array([3, 4, 3, ..., 3, 2, 4])"
      ]
     },
     "execution_count": 42,
     "metadata": {},
     "output_type": "execute_result"
    }
   ],
   "source": [
    "y_test"
   ]
  },
  {
   "cell_type": "code",
   "execution_count": 43,
   "metadata": {
    "execution": {
     "iopub.execute_input": "2021-01-09T00:27:50.802235Z",
     "iopub.status.busy": "2021-01-09T00:27:50.801233Z",
     "iopub.status.idle": "2021-01-09T00:27:51.741116Z",
     "shell.execute_reply": "2021-01-09T00:27:51.740348Z"
    },
    "papermill": {
     "duration": 1.029293,
     "end_time": "2021-01-09T00:27:51.741272",
     "exception": false,
     "start_time": "2021-01-09T00:27:50.711979",
     "status": "completed"
    },
    "tags": []
   },
   "outputs": [
    {
     "data": {
      "text/plain": [
       "KNeighborsClassifier(n_neighbors=4)"
      ]
     },
     "execution_count": 43,
     "metadata": {},
     "output_type": "execute_result"
    }
   ],
   "source": [
    "k = 4\n",
    "neigh = KNeighborsClassifier(n_neighbors = k).fit(X_train,y_train)\n",
    "neigh"
   ]
  },
  {
   "cell_type": "code",
   "execution_count": 44,
   "metadata": {
    "execution": {
     "iopub.execute_input": "2021-01-09T00:27:51.918868Z",
     "iopub.status.busy": "2021-01-09T00:27:51.917590Z",
     "iopub.status.idle": "2021-01-09T00:27:54.433522Z",
     "shell.execute_reply": "2021-01-09T00:27:54.434034Z"
    },
    "papermill": {
     "duration": 2.609118,
     "end_time": "2021-01-09T00:27:54.434198",
     "exception": false,
     "start_time": "2021-01-09T00:27:51.825080",
     "status": "completed"
    },
    "tags": []
   },
   "outputs": [
    {
     "data": {
      "text/plain": [
       "array([3, 4, 3, 1, 2])"
      ]
     },
     "execution_count": 44,
     "metadata": {},
     "output_type": "execute_result"
    }
   ],
   "source": [
    "yhat = neigh.predict(X_test)\n",
    "yhat[0:5]"
   ]
  },
  {
   "cell_type": "code",
   "execution_count": 45,
   "metadata": {
    "execution": {
     "iopub.execute_input": "2021-01-09T00:27:54.556696Z",
     "iopub.status.busy": "2021-01-09T00:27:54.555591Z",
     "iopub.status.idle": "2021-01-09T00:28:03.907320Z",
     "shell.execute_reply": "2021-01-09T00:28:03.908054Z"
    },
    "papermill": {
     "duration": 9.417564,
     "end_time": "2021-01-09T00:28:03.908229",
     "exception": false,
     "start_time": "2021-01-09T00:27:54.490665",
     "status": "completed"
    },
    "tags": []
   },
   "outputs": [
    {
     "name": "stdout",
     "output_type": "stream",
     "text": [
      "Train set Accuracy:  0.8612570787204734\n",
      "Test set Accuracy:  0.7885567062904953\n"
     ]
    }
   ],
   "source": [
    "from sklearn import metrics\n",
    "print(\"Train set Accuracy: \", metrics.accuracy_score(y_train, neigh.predict(X_train)))\n",
    "print(\"Test set Accuracy: \", metrics.accuracy_score(y_test, yhat))"
   ]
  },
  {
   "cell_type": "code",
   "execution_count": 46,
   "metadata": {
    "execution": {
     "iopub.execute_input": "2021-01-09T00:28:04.026750Z",
     "iopub.status.busy": "2021-01-09T00:28:04.025983Z",
     "iopub.status.idle": "2021-01-09T00:28:28.346930Z",
     "shell.execute_reply": "2021-01-09T00:28:28.345370Z"
    },
    "papermill": {
     "duration": 24.381558,
     "end_time": "2021-01-09T00:28:28.347085",
     "exception": false,
     "start_time": "2021-01-09T00:28:03.965527",
     "status": "completed"
    },
    "tags": []
   },
   "outputs": [
    {
     "data": {
      "text/plain": [
       "array([0.8 , 0.78, 0.79, 0.79, 0.79, 0.79, 0.79, 0.79, 0.79])"
      ]
     },
     "execution_count": 46,
     "metadata": {},
     "output_type": "execute_result"
    }
   ],
   "source": [
    "ks = 10\n",
    "mean_acc = np.zeros((ks-1))\n",
    "std_acc = np.zeros((ks-1))\n",
    "\n",
    "for n in range(1,ks):\n",
    "    \n",
    "    neigh = KNeighborsClassifier(n_neighbors = n).fit(X_train,y_train)\n",
    "    yhat = neigh.predict(X_test)\n",
    "    mean_acc[n-1] = metrics.accuracy_score(y_test, yhat)\n",
    "    \n",
    "    \n",
    "    std_acc[n-1] = np.std(yhat==y_test)/np.sqrt(yhat.shape[0])\n",
    "mean_acc"
   ]
  },
  {
   "cell_type": "code",
   "execution_count": 47,
   "metadata": {
    "execution": {
     "iopub.execute_input": "2021-01-09T00:28:28.530744Z",
     "iopub.status.busy": "2021-01-09T00:28:28.528994Z",
     "iopub.status.idle": "2021-01-09T00:28:29.023192Z",
     "shell.execute_reply": "2021-01-09T00:28:29.022330Z"
    },
    "papermill": {
     "duration": 0.588984,
     "end_time": "2021-01-09T00:28:29.023456",
     "exception": false,
     "start_time": "2021-01-09T00:28:28.434472",
     "status": "completed"
    },
    "tags": []
   },
   "outputs": [
    {
     "data": {
      "image/png": "[encoded data removed]",
      "text/plain": [
       "<Figure size 432x288 with 1 Axes>"
      ]
     },
     "metadata": {},
     "output_type": "display_data"
    }
   ],
   "source": [
    "plt.plot(range(1,ks),mean_acc,'g')\n",
    "plt.fill_between(range(1,ks),mean_acc - 1 * std_acc,mean_acc + 1 * std_acc, alpha=0.10)\n",
    "plt.fill_between(range(1,ks),mean_acc - 3 * std_acc,mean_acc + 3 * std_acc, alpha=0.10,color=\"green\")\n",
    "plt.legend(('Accuracy','+/- 1xstd', '+/- 3xstd'))\n",
    "plt.ylabel('Accuracy')\n",
    "plt.xlabel('Number of neighbors (k)')\n",
    "plt.tight_layout()\n",
    "plt.show()"
   ]
  },
  {
   "cell_type": "code",
   "execution_count": 48,
   "metadata": {
    "execution": {
     "iopub.execute_input": "2021-01-09T00:28:29.164506Z",
     "iopub.status.busy": "2021-01-09T00:28:29.163528Z",
     "iopub.status.idle": "2021-01-09T00:28:29.169368Z",
     "shell.execute_reply": "2021-01-09T00:28:29.170235Z"
    },
    "papermill": {
     "duration": 0.076735,
     "end_time": "2021-01-09T00:28:29.170436",
     "exception": false,
     "start_time": "2021-01-09T00:28:29.093701",
     "status": "completed"
    },
    "tags": []
   },
   "outputs": [
    {
     "name": "stdout",
     "output_type": "stream",
     "text": [
      "The best accuracy was with 0.8034794143155961 with k= 1\n"
     ]
    }
   ],
   "source": [
    "print(\"The best accuracy was with\", mean_acc.max(), \"with k=\", mean_acc.argmax()+1)"
   ]
  }
 ],
 "metadata": {
  "kernelspec": {
   "display_name": "Python 3",
   "language": "python",
   "name": "python3"
  },
  "language_info": {
   "codemirror_mode": {
    "name": "ipython",
    "version": 3
   },
   "file_extension": ".py",
   "mimetype": "text/x-python",
   "name": "python",
   "nbconvert_exporter": "python",
   "pygments_lexer": "ipython3",
   "version": "3.7.6"
  },
  "papermill": {
   "duration": 2501.639293,
   "end_time": "2021-01-09T00:28:29.376308",
   "environment_variables": {},
   "exception": null,
   "input_path": "__notebook__.ipynb",
   "output_path": "__notebook__.ipynb",
   "parameters": {},
   "start_time": "2021-01-08T23:46:47.737015",
   "version": "2.1.0"
  }
 },
 "nbformat": 4,
 "nbformat_minor": 4
}
